{
 "cells": [
  {
   "cell_type": "code",
   "execution_count": 48,
   "metadata": {},
   "outputs": [],
   "source": [
    "import os\n",
    "os.getcwd()\n"
   ]
  },
  {
   "cell_type": "code",
   "execution_count": null,
   "metadata": {},
   "outputs": [],
   "source": []
  },
  {
   "cell_type": "code",
   "execution_count": 130,
   "metadata": {},
   "outputs": [
    {
     "name": "stdout",
     "output_type": "stream",
     "text": [
      "type:  <class 'list'>  - value:  []\n",
      "type:  <class 'list'>  - value:  ['31.12.2021', 't1']\n",
      "type:  <class 'list'>  - value:  [['31.12.2021', 't1'], ['31.12.2021', 't1']]\n",
      "type:  <class 'list'>  - value:  [[['31.12.2021', 't1'], ['31.12.2021', 't1']], [['31.12.2021', 't1'], ['31.12.2021', 't1']]]\n",
      "type:  <class 'list'>  - value:  [[['31.12.2021', 't1'], ['31.12.2021', 't1']], [['31.12.2021', 't1'], ['31.12.2021', 't1']]]\n"
     ]
    }
   ],
   "source": [
    "\"\"\"\n",
    "Список (list) – это структура данных для хранения объектов различных типов.\n",
    "Так вот, список очень похож на массив, только, в нем можно хранить объекты различных типов.\n",
    "Размер списка не статичен, его можно изменять. Список по своей природе является изменяемым типом данных.\n",
    "Переменная, определяемая как список, содержит ссылку на структуру в памяти, которая в свою очередь хранит ссылки на какие-либо другие объекты или структуры.\n",
    "\"\"\"\n",
    "list_0 = []     # пустой список\n",
    "print('type: ', type(list_0), ' - value: ', list_0)\n",
    "\n",
    "list_1 = ['31.12.2021', 't1']\n",
    "print('type: ', type(list_1), ' - value: ', list_1)\n",
    "\n",
    "list_2 = [list_1, list_1]\n",
    "print('type: ', type(list_2), ' - value: ', list_2)\n",
    "\n",
    "list_3 = [ list_2, list_2 ]\n",
    "print('type: ', type(list_3), ' - value: ', list_3)\n",
    "\n",
    "list_dict = [ dict_0_1, dict_2_1, dict_2_2 ]\n",
    "print('type: ', type(list_3), ' - value: ', list_3)"
   ]
  },
  {
   "cell_type": "code",
   "execution_count": 120,
   "metadata": {},
   "outputs": [
    {
     "name": "stdout",
     "output_type": "stream",
     "text": [
      "type:  <class 'tuple'>  - value:  ()\n",
      "type:  <class 'tuple'>  - value:  ('31.12.2021', 't1')\n",
      "type:  <class 'tuple'>  - value:  (('31.12.2021', 't1'), ('31.12.2021', 't1'))\n",
      "type:  <class 'tuple'>  - value:  ([['31.12.2021', 't1'], ['31.12.2021', 't1']], [['31.12.2021', 't1'], ['31.12.2021', 't1']])\n"
     ]
    }
   ],
   "source": [
    "\"\"\"\n",
    "Кортеж (tuple) – это неизменяемая структура данных, которая по своему подобию очень похожа на список.\n",
    "\"\"\"\n",
    "tuple_0 = ()    # пустой кортеж\n",
    "print('type: ', type(tuple_0), ' - value: ', tuple_0)\n",
    "\n",
    "tuple_1 = ('31.12.2021', 't1')\n",
    "print('type: ', type(tuple_1), ' - value: ', tuple_1)\n",
    "\n",
    "tuple_2 = (tuple_1, tuple_1)\n",
    "print('type: ', type(tuple_2), ' - value: ', tuple_2)\n",
    "\n",
    "tuple_3 = (list_2, list_2)\n",
    "print('type: ', type(tuple_3), ' - value: ', tuple_3)\n"
   ]
  },
  {
   "cell_type": "code",
   "execution_count": 129,
   "metadata": {},
   "outputs": [
    {
     "name": "stdout",
     "output_type": "stream",
     "text": [
      "type:  <class 'dict'>  - value:  {}\n",
      "type:  <class 'dict'>  - value:  {'date': '31.12.2021', 'task_name': 't1'}\n",
      "type:  <class 'dict'>  - value:  {'date': '31.12.2021', 'task_name': 't1'}\n",
      "type:  <class 'dict'>  - value:  {'date': {'31.12.2021', '01.01.2022'}, 'task_name': 't1'}\n",
      "type:  <class 'dict'>  - value:  {'date': '31.12.2021', 'task_name': {'t2', 't1'}}\n",
      "type:  <class 'dict'>  - value:  {'date': {'31.12.2021', '01.01.2022'}, 'task_name': {'t2', 't1'}}\n"
     ]
    }
   ],
   "source": [
    "\"\"\"\n",
    "Словарь (dict) – это структура данных (которая ещё называется ассоциативный массив), предназначенную для хранения произвольных объектов с доступом по ключу.\n",
    "Данные в словаре хранятся в формате ключ – значение.\n",
    "Если вспомнить такую структуру как список, то доступ к его элементам осуществляется по индексу, который представляет собой целое неотрицательное число, причем мы сами, непосредственно, не участвуем в его создании (индекса).\n",
    "В словаре аналогом индекса является ключ, при этом ответственность за его формирование ложится на программиста.\n",
    "\"\"\"\n",
    "dict_0 = {}    # пустой словарь\n",
    "print('type: ', type(dict_0), ' - value: ', dict_0)\n",
    "\n",
    "dict_0_1 = {\"date\":\"31.12.2021\", \"task_name\":\"t1\"}\n",
    "print('type: ', type(dict_0_1), ' - value: ', dict_0_1)\n",
    "\n",
    "dict_0_2 = dict(date='31.12.2021', task_name='t1')\n",
    "print('type: ', type(dict_0_2), ' - value: ', dict_0_2)\n",
    "\n",
    "\n",
    "dict_2_1 = {\"date\":{'31.12.2021','01.01.2022'}, \"task_name\":\"t1\"}\n",
    "print('type: ', type(dict_2_1), ' - value: ', dict_2_1)\n",
    "\n",
    "dict_1_2 = {\"date\":'31.12.2021', \"task_name\":{\"t1\",\"t2\"} }\n",
    "print('type: ', type(dict_1_2), ' - value: ', dict_1_2)\n",
    "\n",
    "dict_2_2 = {\"date\":{'31.12.2021','01.01.2022'}, \"task_name\":{\"t1\",\"t2\"} }\n",
    "print('type: ', type(dict_2_2), ' - value: ', dict_2_2)\n"
   ]
  },
  {
   "cell_type": "code",
   "execution_count": 166,
   "metadata": {},
   "outputs": [
    {
     "name": "stdout",
     "output_type": "stream",
     "text": [
      "True\n",
      "File exists. File has been read\n",
      "Reading done, finally.\n",
      "[['n', 'e', 'w', ' ', 'r', 'o', 'w'], []]\n",
      "File overwritten\n"
     ]
    }
   ],
   "source": [
    "\"\"\"\n",
    "Робота з CSV.\n",
    "Забороняється робити один запис колу для одночасного доступу до read і write (хоча технічно це наче можливо).\n",
    "Дана заборона діє по причині великої імовірності помилки оскільки потрібно слідкувати за курсором.\n",
    "# \"r\" - \n",
    "# \"t\" - \n",
    "# \"x\" - \n",
    "# \"w+\" -БУЛИ ПОМИЛКИ - Відкритий для читання та запису. Файл створюється, якщо він не існує, в іншому випадку він обрізається. Потік розташовується на початку файлу.\n",
    "# https://pythonworld.ru/tipy-dannyx-v-python/fajly-rabota-s-fajlami.html\n",
    "\"\"\"\n",
    "import os.path\n",
    "import csv\n",
    "\n",
    "hw3_BD = \"r1.csv\"\n",
    "print( os.path.isfile(hw3_BD) )\n",
    "\n",
    "# Переписати на процедуру. Який варіант кращий try чи if+isfile ?\n",
    "try:\n",
    "    with open(hw3_BD, \"rt\") as f:\n",
    "        reader = csv.reader(f)\n",
    "        hw3_data = list(reader)\n",
    "        print('File exists. File has been read')\n",
    "except:\n",
    "    with open(hw3_BD, \"x\") as f:\n",
    "        hw3_data = csv.reader(f)\n",
    "        print('No such file. File was created successfully.')\n",
    "finally:\n",
    "    print('Reading done, finally.')\n",
    "\n",
    "    \n",
    "with open(hw3_BD, \"wt\") as f:\n",
    "    writer = csv.writer(f)\n",
    "    writer.writerow( \"new row\" ) # чому він так записується: [['n', 'e', 'w', ' ', 'r', 'o', 'w'], []]\n",
    "    print('File overwritten')\n",
    "\n",
    "\n",
    "\n"
   ]
  }
 ],
 "metadata": {
  "kernelspec": {
   "display_name": "Python 3",
   "language": "python",
   "name": "python3"
  },
  "language_info": {
   "codemirror_mode": {
    "name": "ipython",
    "version": 3
   },
   "file_extension": ".py",
   "mimetype": "text/x-python",
   "name": "python",
   "nbconvert_exporter": "python",
   "pygments_lexer": "ipython3",
   "version": "3.7.6"
  }
 },
 "nbformat": 4,
 "nbformat_minor": 4
}
