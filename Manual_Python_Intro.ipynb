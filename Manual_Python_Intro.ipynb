{
 "cells": [
  {
   "cell_type": "code",
   "execution_count": 2,
   "metadata": {
    "scrolled": true
   },
   "outputs": [
    {
     "data": {
      "text/plain": [
       "'D:\\\\HUB\\\\Python\\\\GIT\\\\PySpark_20220117'"
      ]
     },
     "execution_count": 2,
     "metadata": {},
     "output_type": "execute_result"
    }
   ],
   "source": [
    "import os\n",
    "os.getcwd()"
   ]
  },
  {
   "cell_type": "code",
   "execution_count": 15,
   "metadata": {},
   "outputs": [],
   "source": [
    "#Устоновка пакетів напряму з Jupyter Notebook\n",
    "#!pip install pyspark\n",
    "import pyspark"
   ]
  },
  {
   "cell_type": "code",
   "execution_count": 3,
   "metadata": {},
   "outputs": [
    {
     "name": "stdout",
     "output_type": "stream",
     "text": [
      "Hello, world! Today 2022-01-24 .\n",
      "CD = D:\\HUB\\Python\\GIT\\PySpark_20220117.\n",
      "CD = D:\\HUB\\Python\\GIT\\PySpark_20220117. Today 2022-01-24.\n",
      "getcwd = D:\\HUB\\Python\\GIT\\PySpark_20220117 ;\n",
      "CD = D:\\HUB\\Python\\GIT\\PySpark_20220117. Today 2022-01-24.\n",
      "Значение числа pi: 3.1416\n",
      "Текущее время 24.01.2022 10:10\n",
      "type: <class 'int'> - value: 1.\n"
     ]
    }
   ],
   "source": [
    "import datetime\n",
    "#from datetime import datetime, date, time\n",
    "d = datetime.date.today()\n",
    "n = datetime.datetime.now()\n",
    "\n",
    "#5 СПОСОБОВ ФОРМАТИРОВАНИЯ СТРОК\n",
    "\n",
    "#1. Конкатенация. Грубый способ форматирования, в котором мы просто склеиваем несколько строк с помощью операции сложения:\n",
    "print(\"Hello, world! Today\", str(d) + \" .\")  # , or +\n",
    "\n",
    "#2. %-форматирование. Передавать значения в строку можно через списки и кортежи , а также и с помощью словаря. Во втором случае значения помещаются не по позиции, а в соответствии с именами.\n",
    "print(\"CD = %s.\" % (os.getcwd()))\n",
    "print(\"CD = %(CD)s. Today %(day)s.\" %{\"CD\": os.getcwd(), \"day\":d} )\n",
    "\n",
    "#3. Template-строки. Поддерживает передачу значений по имени. Не популярна замена %-форматированию.\n",
    "#4. Форматирование с помощью метода format(). Проте №5 краще.\n",
    "#5. f-строки. Форматирование, которое появилось в Python 3.6 (PEP 498). Этот способ похож на форматирование с помощью метода format(), но гибче, читабельней и быстрей.\n",
    "print(f'getcwd = {os.getcwd()} ;')\n",
    "print(f\"CD = {os.getcwd()}. Today {d}.\" )\n",
    "from math import pi\n",
    "print(f\"Значение числа pi: {pi:.4f}\")\n",
    "print(f\"Текущее время {n:%d.%m.%Y %H:%M}\")\n",
    "\n",
    "def IK_print(x):\n",
    "    print(f\"type: {type(x)} - value: {x}.\" )\n",
    "    \n",
    "IK_print(1)"
   ]
  },
  {
   "cell_type": "code",
   "execution_count": 7,
   "metadata": {},
   "outputs": [
    {
     "name": "stdout",
     "output_type": "stream",
     "text": [
      "type: <class 'list'> - value: [].\n",
      "type: <class 'list'> - value: ['31.12.2021', 't1'].\n",
      "type: <class 'list'> - value: [['31.12.2021', 't1'], ['31.12.2021', 't1']].\n",
      "type: <class 'list'> - value: [[['31.12.2021', 't1'], ['31.12.2021', 't1']], [['31.12.2021', 't1'], ['31.12.2021', 't1']]].\n"
     ]
    }
   ],
   "source": [
    "\"\"\"\n",
    "Список (list) – это структура данных для хранения объектов различных типов.\n",
    "Так вот, список очень похож на массив, только, в нем можно хранить объекты различных типов.\n",
    "Размер списка не статичен, его можно изменять. Список по своей природе является изменяемым типом данных.\n",
    "Переменная, определяемая как список, содержит ссылку на структуру в памяти, которая в свою очередь хранит ссылки на какие-либо другие объекты или структуры.\n",
    "\"\"\"\n",
    "list_0 = []     # пустой список\n",
    "IK_print(list_0)\n",
    "\n",
    "list_1 = ['31.12.2021', 't1']\n",
    "IK_print(list_1)\n",
    "\n",
    "list_2 = [list_1, list_1]\n",
    "IK_print(list_2)\n",
    "\n",
    "list_3 = [ list_2, list_2 ]\n",
    "IK_print(list_3)"
   ]
  },
  {
   "cell_type": "code",
   "execution_count": 10,
   "metadata": {},
   "outputs": [
    {
     "name": "stdout",
     "output_type": "stream",
     "text": [
      "type: <class 'tuple'> - value: ().\n",
      "type: <class 'tuple'> - value: ('31.12.2021', 't1').\n",
      "type: <class 'tuple'> - value: (('31.12.2021', 't1'), ('31.12.2021', 't1')).\n",
      "type: <class 'tuple'> - value: ([['31.12.2021', 't1'], ['31.12.2021', 't1']], [['31.12.2021', 't1'], ['31.12.2021', 't1']]).\n"
     ]
    }
   ],
   "source": [
    "\"\"\"\n",
    "Кортеж (tuple) – это неизменяемая структура данных, которая по своему подобию очень похожа на список.\n",
    "\"\"\"\n",
    "tuple_0 = ()    # пустой кортеж\n",
    "IK_print(tuple_0)\n",
    "\n",
    "tuple_1 = ('31.12.2021', 't1')\n",
    "IK_print(tuple_1)\n",
    "\n",
    "tuple_2 = (tuple_1, tuple_1)\n",
    "IK_print(tuple_2)\n",
    "\n",
    "tuple_3 = (list_2, list_2)\n",
    "IK_print(tuple_3)"
   ]
  },
  {
   "cell_type": "code",
   "execution_count": 11,
   "metadata": {},
   "outputs": [
    {
     "name": "stdout",
     "output_type": "stream",
     "text": [
      "type: <class 'dict'> - value: {}.\n",
      "type: <class 'dict'> - value: {'date': '31.12.2021', 'task_name': 't1'}.\n",
      "type: <class 'dict'> - value: {'date': '31.12.2021', 'task_name': 't1'}.\n",
      "type: <class 'dict'> - value: {'date': {'01.01.2022', '31.12.2021'}, 'task_name': 't1'}.\n",
      "type: <class 'dict'> - value: {'date': '31.12.2021', 'task_name': {'t1', 't2'}}.\n",
      "type: <class 'dict'> - value: {'date': {'01.01.2022', '31.12.2021'}, 'task_name': {'t1', 't2'}}.\n",
      "type: <class 'list'> - value: [{'date': '31.12.2021', 'task_name': 't1'}, {'date': {'01.01.2022', '31.12.2021'}, 'task_name': 't1'}, {'date': {'01.01.2022', '31.12.2021'}, 'task_name': {'t1', 't2'}}].\n"
     ]
    }
   ],
   "source": [
    "\"\"\"\n",
    "Словарь (dict) – это структура данных (которая ещё называется ассоциативный массив), предназначенную для хранения произвольных объектов с доступом по ключу.\n",
    "Данные в словаре хранятся в формате ключ – значение.\n",
    "Если вспомнить такую структуру как список, то доступ к его элементам осуществляется по индексу, который представляет собой целое неотрицательное число, причем мы сами, непосредственно, не участвуем в его создании (индекса).\n",
    "В словаре аналогом индекса является ключ, при этом ответственность за его формирование ложится на программиста.\n",
    "\"\"\"\n",
    "dict_0 = {}    # пустой словарь\n",
    "IK_print(dict_0)\n",
    "\n",
    "dict_0_1 = {\"date\":\"31.12.2021\", \"task_name\":\"t1\"}\n",
    "IK_print(dict_0_1)\n",
    "\n",
    "dict_0_2 = dict(date='31.12.2021', task_name='t1')\n",
    "IK_print(dict_0_2)\n",
    "\n",
    "dict_2_1 = {\"date\":{'31.12.2021','01.01.2022'}, \"task_name\":\"t1\"}\n",
    "IK_print(dict_2_1)\n",
    "\n",
    "dict_1_2 = {\"date\":'31.12.2021', \"task_name\":{\"t1\",\"t2\"} }\n",
    "IK_print(dict_1_2)\n",
    "\n",
    "dict_2_2 = {\"date\":{'31.12.2021','01.01.2022'}, \"task_name\":{\"t1\",\"t2\"} }\n",
    "IK_print(dict_2_2)\n",
    "\n",
    "list_dict = [ dict_0_1, dict_2_1, dict_2_2 ]\n",
    "IK_print(list_dict)"
   ]
  },
  {
   "cell_type": "code",
   "execution_count": 166,
   "metadata": {},
   "outputs": [
    {
     "name": "stdout",
     "output_type": "stream",
     "text": [
      "True\n",
      "File exists. File has been read\n",
      "Reading done, finally.\n",
      "[['n', 'e', 'w', ' ', 'r', 'o', 'w'], []]\n",
      "File overwritten\n"
     ]
    }
   ],
   "source": [
    "\"\"\"\n",
    "Робота з CSV.\n",
    "Забороняється робити один запис колу для одночасного доступу до read і write (хоча технічно це наче можливо).\n",
    "Дана заборона діє по причині великої імовірності помилки оскільки потрібно слідкувати за курсором.\n",
    "# \"r\" - \n",
    "# \"t\" - \n",
    "# \"x\" - \n",
    "# \"w+\" -БУЛИ ПОМИЛКИ - Відкритий для читання та запису. Файл створюється, якщо він не існує, в іншому випадку він обрізається. Потік розташовується на початку файлу.\n",
    "# https://pythonworld.ru/tipy-dannyx-v-python/fajly-rabota-s-fajlami.html\n",
    "\"\"\"\n",
    "import os.path\n",
    "import csv\n",
    "\n",
    "hw3_BD = \"r1.csv\"\n",
    "print( os.path.isfile(hw3_BD) )\n",
    "\n",
    "# Переписати на процедуру. Який варіант кращий try чи if+isfile ?\n",
    "try:\n",
    "    with open(hw3_BD, \"rt\") as f:\n",
    "        reader = csv.reader(f)\n",
    "        hw3_data = list(reader)\n",
    "        print('File exists. File has been read')\n",
    "except:\n",
    "    with open(hw3_BD, \"x\") as f:\n",
    "        hw3_data = csv.reader(f)\n",
    "        print('No such file. File was created successfully.')\n",
    "finally:\n",
    "    print('Reading done, finally.')\n",
    "\n",
    "    \n",
    "with open(hw3_BD, \"wt\") as f:\n",
    "    writer = csv.writer(f)\n",
    "    writer.writerow( \"new row\" ) # чому він так записується: [['n', 'e', 'w', ' ', 'r', 'o', 'w'], []]\n",
    "    print('File overwritten')\n",
    "\n",
    "\n",
    "\n"
   ]
  }
 ],
 "metadata": {
  "kernelspec": {
   "display_name": "Python 3 (ipykernel)",
   "language": "python",
   "name": "python3"
  },
  "language_info": {
   "codemirror_mode": {
    "name": "ipython",
    "version": 3
   },
   "file_extension": ".py",
   "mimetype": "text/x-python",
   "name": "python",
   "nbconvert_exporter": "python",
   "pygments_lexer": "ipython3",
   "version": "3.9.7"
  }
 },
 "nbformat": 4,
 "nbformat_minor": 4
}
