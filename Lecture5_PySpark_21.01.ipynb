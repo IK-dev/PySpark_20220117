{
 "cells": [
  {
   "cell_type": "code",
   "execution_count": 2,
   "id": "65a502de",
   "metadata": {},
   "outputs": [],
   "source": [
    "import pyspark"
   ]
  },
  {
   "cell_type": "code",
   "execution_count": 3,
   "id": "b1f8b1cf",
   "metadata": {},
   "outputs": [
    {
     "name": "stderr",
     "output_type": "stream",
     "text": [
      "22/01/21 14:42:43 WARN Utils: Your hostname, z-ThinkPad-E490 resolves to a loopback address: 127.0.1.1; using 192.168.1.109 instead (on interface wlp5s0)\n",
      "22/01/21 14:42:43 WARN Utils: Set SPARK_LOCAL_IP if you need to bind to another address\n",
      "WARNING: An illegal reflective access operation has occurred\n",
      "WARNING: Illegal reflective access by org.apache.spark.unsafe.Platform (file:/home/z/220117bd/env/lib/python3.10/site-packages/pyspark/jars/spark-unsafe_2.12-3.2.0.jar) to constructor java.nio.DirectByteBuffer(long,int)\n",
      "WARNING: Please consider reporting this to the maintainers of org.apache.spark.unsafe.Platform\n",
      "WARNING: Use --illegal-access=warn to enable warnings of further illegal reflective access operations\n",
      "WARNING: All illegal access operations will be denied in a future release\n",
      "Using Spark's default log4j profile: org/apache/spark/log4j-defaults.properties\n",
      "Setting default log level to \"WARN\".\n",
      "To adjust logging level use sc.setLogLevel(newLevel). For SparkR, use setLogLevel(newLevel).\n",
      "22/01/21 14:42:45 WARN NativeCodeLoader: Unable to load native-hadoop library for your platform... using builtin-java classes where applicable\n"
     ]
    }
   ],
   "source": [
    "sc = pyspark.SparkContext()"
   ]
  },
  {
   "cell_type": "code",
   "execution_count": 4,
   "id": "7b80b88d",
   "metadata": {},
   "outputs": [
    {
     "name": "stderr",
     "output_type": "stream",
     "text": [
      "                                                                                \r"
     ]
    },
    {
     "data": {
      "text/plain": [
       "[\"Project Gutenberg's The Adventures of Sherlock Holmes, by Arthur Conan Doyle\",\n",
       " '',\n",
       " 'This eBook is for the use of anyone anywhere at no cost and with',\n",
       " 'almost no restrictions whatsoever.  You may copy it, give it away or',\n",
       " 're-use it under the terms of the Project Gutenberg License included',\n",
       " 'with this eBook or online at www.gutenberg.net',\n",
       " '',\n",
       " '',\n",
       " 'Title: The Adventures of Sherlock Holmes',\n",
       " '']"
      ]
     },
     "execution_count": 4,
     "metadata": {},
     "output_type": "execute_result"
    }
   ],
   "source": [
    "rdd1 = sc.textFile('pg1661.txt')\n",
    "rdd1.take(10)"
   ]
  },
  {
   "cell_type": "code",
   "execution_count": 5,
   "id": "cab96395",
   "metadata": {},
   "outputs": [
    {
     "data": {
      "text/plain": [
       "[\"project gutenberg's the adventures of sherlock holmes, by arthur conan doyle\",\n",
       " '',\n",
       " 'this ebook is for the use of anyone anywhere at no cost and with',\n",
       " 'almost no restrictions whatsoever.  you may copy it, give it away or',\n",
       " 're-use it under the terms of the project gutenberg license included',\n",
       " 'with this ebook or online at www.gutenberg.net',\n",
       " '',\n",
       " '',\n",
       " 'title: the adventures of sherlock holmes',\n",
       " '']"
      ]
     },
     "execution_count": 5,
     "metadata": {},
     "output_type": "execute_result"
    }
   ],
   "source": [
    "rdd2 = rdd1.map(lambda s: s.lower())\n",
    "rdd2.take(10)"
   ]
  },
  {
   "cell_type": "code",
   "execution_count": 8,
   "id": "3f250c1b",
   "metadata": {},
   "outputs": [
    {
     "name": "stderr",
     "output_type": "stream",
     "text": [
      "\r",
      "[Stage 4:>                                                          (0 + 1) / 1]\r",
      "\r",
      "                                                                                \r"
     ]
    },
    {
     "data": {
      "text/plain": [
       "['project',\n",
       " 'gutenberg',\n",
       " 's',\n",
       " 'the',\n",
       " 'adventures',\n",
       " 'of',\n",
       " 'sherlock',\n",
       " 'holmes',\n",
       " 'by',\n",
       " 'arthur',\n",
       " 'conan',\n",
       " 'doyle',\n",
       " 'this',\n",
       " 'ebook',\n",
       " 'is',\n",
       " 'for',\n",
       " 'the',\n",
       " 'use',\n",
       " 'of',\n",
       " 'anyone']"
      ]
     },
     "execution_count": 8,
     "metadata": {},
     "output_type": "execute_result"
    }
   ],
   "source": [
    "import re\n",
    "\n",
    "rdd3 = rdd2.flatMap(lambda s: re.findall(r\"\\w+\", s))\n",
    "rdd3.take(20)"
   ]
  },
  {
   "cell_type": "code",
   "execution_count": 9,
   "id": "e1623abe",
   "metadata": {},
   "outputs": [
    {
     "data": {
      "text/plain": [
       "[('project', 1),\n",
       " ('gutenberg', 1),\n",
       " ('s', 1),\n",
       " ('the', 1),\n",
       " ('adventures', 1),\n",
       " ('of', 1),\n",
       " ('sherlock', 1),\n",
       " ('holmes', 1),\n",
       " ('by', 1),\n",
       " ('arthur', 1),\n",
       " ('conan', 1),\n",
       " ('doyle', 1),\n",
       " ('this', 1),\n",
       " ('ebook', 1),\n",
       " ('is', 1),\n",
       " ('for', 1),\n",
       " ('the', 1),\n",
       " ('use', 1),\n",
       " ('of', 1),\n",
       " ('anyone', 1)]"
      ]
     },
     "execution_count": 9,
     "metadata": {},
     "output_type": "execute_result"
    }
   ],
   "source": [
    "rdd4 = rdd3.map(lambda s: (s, 1))\n",
    "rdd4.take(20)"
   ]
  },
  {
   "cell_type": "code",
   "execution_count": 10,
   "id": "51e4c5c2",
   "metadata": {},
   "outputs": [
    {
     "name": "stderr",
     "output_type": "stream",
     "text": [
      "                                                                                \r"
     ]
    },
    {
     "data": {
      "text/plain": [
       "[('project', 89),\n",
       " ('gutenberg', 95),\n",
       " ('s', 382),\n",
       " ('adventures', 11),\n",
       " ('of', 2778),\n",
       " ('holmes', 467),\n",
       " ('arthur', 24),\n",
       " ('doyle', 4),\n",
       " ('this', 535),\n",
       " ('ebook', 10),\n",
       " ('is', 1150),\n",
       " ('use', 46),\n",
       " ('anyone', 29),\n",
       " ('anywhere', 4),\n",
       " ('at', 784),\n",
       " ('no', 400),\n",
       " ('restrictions', 2),\n",
       " ('whatsoever', 2),\n",
       " ('may', 212),\n",
       " ('give', 64)]"
      ]
     },
     "execution_count": 10,
     "metadata": {},
     "output_type": "execute_result"
    }
   ],
   "source": [
    "rdd5 = rdd4.reduceByKey(lambda a, x: a + x)\n",
    "rdd5.take(20)"
   ]
  },
  {
   "cell_type": "code",
   "execution_count": 12,
   "id": "9602cf85",
   "metadata": {},
   "outputs": [
    {
     "data": {
      "text/plain": [
       "[(89, 'project'),\n",
       " (95, 'gutenberg'),\n",
       " (382, 's'),\n",
       " (11, 'adventures'),\n",
       " (2778, 'of'),\n",
       " (467, 'holmes'),\n",
       " (24, 'arthur'),\n",
       " (4, 'doyle'),\n",
       " (535, 'this'),\n",
       " (10, 'ebook'),\n",
       " (1150, 'is'),\n",
       " (46, 'use'),\n",
       " (29, 'anyone'),\n",
       " (4, 'anywhere'),\n",
       " (784, 'at'),\n",
       " (400, 'no'),\n",
       " (2, 'restrictions'),\n",
       " (2, 'whatsoever'),\n",
       " (212, 'may'),\n",
       " (64, 'give')]"
      ]
     },
     "execution_count": 12,
     "metadata": {},
     "output_type": "execute_result"
    }
   ],
   "source": [
    "rdd6 = rdd5.map(lambda x: (x[1], x[0]))\n",
    "rdd6.take(20)"
   ]
  },
  {
   "cell_type": "code",
   "execution_count": 13,
   "id": "85f45b0a",
   "metadata": {},
   "outputs": [
    {
     "name": "stderr",
     "output_type": "stream",
     "text": [
      "                                                                                \r"
     ]
    },
    {
     "data": {
      "text/plain": [
       "[(1, 'posting'),\n",
       " (1, '2011'),\n",
       " (1, '29'),\n",
       " (1, '2002'),\n",
       " (1, 'emotions'),\n",
       " (1, 'passions'),\n",
       " (1, 'gibe'),\n",
       " (1, 'intrusions'),\n",
       " (1, 'temperament'),\n",
       " (1, 'distracting'),\n",
       " (1, 'sensitive'),\n",
       " (1, 'lenses'),\n",
       " (1, 'absorb'),\n",
       " (1, 'alternating'),\n",
       " (1, 'ambition'),\n",
       " (1, 'odessa'),\n",
       " (1, 'trepoff'),\n",
       " (1, 'atkinson'),\n",
       " (1, 'trincomalee'),\n",
       " (1, 'delicately')]"
      ]
     },
     "execution_count": 13,
     "metadata": {},
     "output_type": "execute_result"
    }
   ],
   "source": [
    "rdd7 = rdd6.sortByKey()\n",
    "rdd7.take(20)"
   ]
  },
  {
   "cell_type": "code",
   "execution_count": 14,
   "id": "bdd96d60",
   "metadata": {},
   "outputs": [],
   "source": [
    "s = rdd7.collect()"
   ]
  },
  {
   "cell_type": "code",
   "execution_count": 15,
   "id": "fbad09c5",
   "metadata": {},
   "outputs": [
    {
     "data": {
      "text/plain": [
       "[(1, 'posting'),\n",
       " (1, '2011'),\n",
       " (1, '29'),\n",
       " (1, '2002'),\n",
       " (1, 'emotions'),\n",
       " (1, 'passions'),\n",
       " (1, 'gibe'),\n",
       " (1, 'intrusions'),\n",
       " (1, 'temperament'),\n",
       " (1, 'distracting')]"
      ]
     },
     "execution_count": 15,
     "metadata": {},
     "output_type": "execute_result"
    }
   ],
   "source": [
    "s[:10]"
   ]
  },
  {
   "cell_type": "code",
   "execution_count": 16,
   "id": "2ee54481",
   "metadata": {},
   "outputs": [
    {
     "name": "stderr",
     "output_type": "stream",
     "text": [
      "\r",
      "[Stage 29:=============================>                            (1 + 1) / 2]\r",
      "\r",
      "                                                                                \r"
     ]
    },
    {
     "data": {
      "text/plain": [
       "8166"
      ]
     },
     "execution_count": 16,
     "metadata": {},
     "output_type": "execute_result"
    }
   ],
   "source": [
    "rdd7.count()"
   ]
  },
  {
   "cell_type": "code",
   "execution_count": 18,
   "id": "75f211b0",
   "metadata": {},
   "outputs": [],
   "source": [
    "with open(\"stat.txt\", \"wt\") as f:\n",
    "    f.write(\"\\n\".join(f\"{word} {number}\" for number, word in s))"
   ]
  },
  {
   "cell_type": "code",
   "execution_count": null,
   "id": "edbe0f0b",
   "metadata": {},
   "outputs": [],
   "source": [
    "Найти разность температур в самом теплом и самом холодном городах на основаниии\n",
    "статистики за последние 50 лет"
   ]
  },
  {
   "cell_type": "code",
   "execution_count": 19,
   "id": "24857ea4",
   "metadata": {},
   "outputs": [
    {
     "data": {
      "text/plain": [
       "'/home/z/220117bd'"
      ]
     },
     "execution_count": 19,
     "metadata": {},
     "output_type": "execute_result"
    }
   ],
   "source": [
    "import os\n",
    "os.getcwd()"
   ]
  },
  {
   "cell_type": "code",
   "execution_count": 20,
   "id": "45b6becb",
   "metadata": {},
   "outputs": [
    {
     "data": {
      "text/plain": [
       "'c:\\\\new\\\\file'"
      ]
     },
     "execution_count": 20,
     "metadata": {},
     "output_type": "execute_result"
    }
   ],
   "source": [
    "r\"c:\\new\\file\""
   ]
  },
  {
   "cell_type": "code",
   "execution_count": 21,
   "id": "a4c81db0",
   "metadata": {},
   "outputs": [
    {
     "data": {
      "text/plain": [
       "['dt,AverageTemperature,AverageTemperatureUncertainty,City,Country,Latitude,Longitude',\n",
       " \"1849-01-01,26.704,1.435,Abidjan,Côte D'Ivoire,5.63N,3.23W\",\n",
       " \"1849-02-01,27.434,1.362,Abidjan,Côte D'Ivoire,5.63N,3.23W\",\n",
       " \"1849-03-01,28.101,1.612,Abidjan,Côte D'Ivoire,5.63N,3.23W\",\n",
       " \"1849-04-01,26.14,1.3869999999999998,Abidjan,Côte D'Ivoire,5.63N,3.23W\"]"
      ]
     },
     "execution_count": 21,
     "metadata": {},
     "output_type": "execute_result"
    }
   ],
   "source": [
    "rdd1 = sc.textFile(\"../Downloads/GlobalLandTemperaturesByMajorCity.csv\")\n",
    "rdd1.take(5)"
   ]
  },
  {
   "cell_type": "code",
   "execution_count": 22,
   "id": "ba952865",
   "metadata": {},
   "outputs": [
    {
     "data": {
      "text/plain": [
       "[\"1849-01-01,26.704,1.435,Abidjan,Côte D'Ivoire,5.63N,3.23W\",\n",
       " \"1849-02-01,27.434,1.362,Abidjan,Côte D'Ivoire,5.63N,3.23W\",\n",
       " \"1849-03-01,28.101,1.612,Abidjan,Côte D'Ivoire,5.63N,3.23W\",\n",
       " \"1849-04-01,26.14,1.3869999999999998,Abidjan,Côte D'Ivoire,5.63N,3.23W\",\n",
       " \"1849-05-01,25.427,1.2,Abidjan,Côte D'Ivoire,5.63N,3.23W\"]"
      ]
     },
     "execution_count": 22,
     "metadata": {},
     "output_type": "execute_result"
    }
   ],
   "source": [
    "rdd2 = rdd1.filter(lambda x: not x.startswith('dt'))\n",
    "rdd2.take(5)"
   ]
  },
  {
   "cell_type": "code",
   "execution_count": 24,
   "id": "10953f2e",
   "metadata": {},
   "outputs": [
    {
     "name": "stderr",
     "output_type": "stream",
     "text": [
      "\r",
      "                                                                                \r"
     ]
    },
    {
     "data": {
      "text/plain": [
       "[['1849-01-01',\n",
       "  '26.704',\n",
       "  '1.435',\n",
       "  'Abidjan',\n",
       "  \"Côte D'Ivoire\",\n",
       "  '5.63N',\n",
       "  '3.23W'],\n",
       " ['1849-02-01',\n",
       "  '27.434',\n",
       "  '1.362',\n",
       "  'Abidjan',\n",
       "  \"Côte D'Ivoire\",\n",
       "  '5.63N',\n",
       "  '3.23W'],\n",
       " ['1849-03-01',\n",
       "  '28.101',\n",
       "  '1.612',\n",
       "  'Abidjan',\n",
       "  \"Côte D'Ivoire\",\n",
       "  '5.63N',\n",
       "  '3.23W'],\n",
       " ['1849-04-01',\n",
       "  '26.14',\n",
       "  '1.3869999999999998',\n",
       "  'Abidjan',\n",
       "  \"Côte D'Ivoire\",\n",
       "  '5.63N',\n",
       "  '3.23W'],\n",
       " ['1849-05-01', '25.427', '1.2', 'Abidjan', \"Côte D'Ivoire\", '5.63N', '3.23W']]"
      ]
     },
     "execution_count": 24,
     "metadata": {},
     "output_type": "execute_result"
    }
   ],
   "source": [
    "rdd3 = rdd2.map(lambda x: x.split(','))\n",
    "rdd3.take(5)"
   ]
  },
  {
   "cell_type": "code",
   "execution_count": 26,
   "id": "d519ee9d",
   "metadata": {},
   "outputs": [
    {
     "data": {
      "text/plain": [
       "[('1849-01-01', '26.704', 'Abidjan'),\n",
       " ('1849-02-01', '27.434', 'Abidjan'),\n",
       " ('1849-03-01', '28.101', 'Abidjan'),\n",
       " ('1849-04-01', '26.14', 'Abidjan'),\n",
       " ('1849-05-01', '25.427', 'Abidjan')]"
      ]
     },
     "execution_count": 26,
     "metadata": {},
     "output_type": "execute_result"
    }
   ],
   "source": [
    "rdd4 = rdd3.map(lambda x: (x[0], x[1], x[3]))\n",
    "rdd4.take(5)"
   ]
  },
  {
   "cell_type": "code",
   "execution_count": 28,
   "id": "01c20a1d",
   "metadata": {},
   "outputs": [
    {
     "data": {
      "text/plain": [
       "[(1849, ('26.704', 'Abidjan')),\n",
       " (1849, ('27.434', 'Abidjan')),\n",
       " (1849, ('28.101', 'Abidjan')),\n",
       " (1849, ('26.14', 'Abidjan')),\n",
       " (1849, ('25.427', 'Abidjan'))]"
      ]
     },
     "execution_count": 28,
     "metadata": {},
     "output_type": "execute_result"
    }
   ],
   "source": [
    "rdd5 = rdd4.map(lambda x: (int(x[0][:4]), (x[1], x[2])))\n",
    "rdd5.take(5)"
   ]
  },
  {
   "cell_type": "code",
   "execution_count": 30,
   "id": "e273d03d",
   "metadata": {},
   "outputs": [
    {
     "name": "stderr",
     "output_type": "stream",
     "text": [
      "                                                                                \r"
     ]
    },
    {
     "data": {
      "text/plain": [
       "(2013, ('27.750999999999998', 'Abidjan'))"
      ]
     },
     "execution_count": 30,
     "metadata": {},
     "output_type": "execute_result"
    }
   ],
   "source": [
    "rdd6 = rdd5.sortByKey(False)\n",
    "rdd6.first()"
   ]
  },
  {
   "cell_type": "code",
   "execution_count": 33,
   "id": "92f304fa",
   "metadata": {},
   "outputs": [
    {
     "data": {
      "text/plain": [
       "[('1964-01-01', '26.551', 'Abidjan'),\n",
       " ('1964-02-01', '28.374000000000002', 'Abidjan'),\n",
       " ('1964-03-01', '28.338', 'Abidjan'),\n",
       " ('1964-04-01', '27.461', 'Abidjan'),\n",
       " ('1964-05-01', '26.394000000000002', 'Abidjan')]"
      ]
     },
     "execution_count": 33,
     "metadata": {},
     "output_type": "execute_result"
    }
   ],
   "source": [
    "rdd7 = rdd4.filter(lambda x: int(x[0][:4])>1963)\n",
    "rdd7.take(5)"
   ]
  },
  {
   "cell_type": "code",
   "execution_count": 34,
   "id": "4edcc231",
   "metadata": {},
   "outputs": [
    {
     "name": "stderr",
     "output_type": "stream",
     "text": [
      "                                                                                \r"
     ]
    },
    {
     "data": {
      "text/plain": [
       "239177"
      ]
     },
     "execution_count": 34,
     "metadata": {},
     "output_type": "execute_result"
    }
   ],
   "source": [
    "rdd4.count()"
   ]
  },
  {
   "cell_type": "code",
   "execution_count": 35,
   "id": "c422e6f3",
   "metadata": {},
   "outputs": [
    {
     "name": "stderr",
     "output_type": "stream",
     "text": [
      "                                                                                \r"
     ]
    },
    {
     "data": {
      "text/plain": [
       "59700"
      ]
     },
     "execution_count": 35,
     "metadata": {},
     "output_type": "execute_result"
    }
   ],
   "source": [
    "rdd7.count()"
   ]
  },
  {
   "cell_type": "code",
   "execution_count": 44,
   "id": "174a183c",
   "metadata": {},
   "outputs": [
    {
     "data": {
      "text/plain": [
       "[('1964-01-01', '26.551', 'Abidjan'),\n",
       " ('1964-02-01', '28.374000000000002', 'Abidjan'),\n",
       " ('1964-03-01', '28.338', 'Abidjan'),\n",
       " ('1964-04-01', '27.461', 'Abidjan'),\n",
       " ('1964-05-01', '26.394000000000002', 'Abidjan')]"
      ]
     },
     "execution_count": 44,
     "metadata": {},
     "output_type": "execute_result"
    }
   ],
   "source": [
    "rdd8 = rdd7.filter(lambda x: x[1] != '')\n",
    "rdd8.take(5)"
   ]
  },
  {
   "cell_type": "code",
   "execution_count": 45,
   "id": "840b92cb",
   "metadata": {},
   "outputs": [
    {
     "data": {
      "text/plain": [
       "[('Abidjan', (26.551, 1)),\n",
       " ('Abidjan', (28.374000000000002, 1)),\n",
       " ('Abidjan', (28.338, 1)),\n",
       " ('Abidjan', (27.461, 1)),\n",
       " ('Abidjan', (26.394000000000002, 1))]"
      ]
     },
     "execution_count": 45,
     "metadata": {},
     "output_type": "execute_result"
    }
   ],
   "source": [
    "rdd9 = rdd8.map(lambda x: (x[2], (float(x[1]), 1)))\n",
    "rdd9.take(5)"
   ]
  },
  {
   "cell_type": "code",
   "execution_count": 51,
   "id": "8414207d",
   "metadata": {},
   "outputs": [
    {
     "name": "stderr",
     "output_type": "stream",
     "text": [
      "                                                                                \r"
     ]
    },
    {
     "data": {
      "text/plain": [
       "[('Abidjan', (15853.798, 596)),\n",
       " ('Addis Abeba', (10656.361000000006, 596)),\n",
       " ('Ahmadabad', (16122.282000000005, 596)),\n",
       " ('Aleppo', (10695.218999999988, 596)),\n",
       " ('Alexandria', (12410.092000000008, 596)),\n",
       " ('Baghdad', (13894.767999999991, 596)),\n",
       " ('Bombay', (16173.183000000014, 596)),\n",
       " ('Calcutta', (15818.219999999994, 596)),\n",
       " ('Casablanca', (10545.303999999991, 596)),\n",
       " ('Changchun', (3403.3880000000026, 596)),\n",
       " ('Chengdu', (6539.732000000008, 596)),\n",
       " ('Chicago', (6413.870000000001, 597)),\n",
       " ('Chongqing', (10215.150999999987, 596)),\n",
       " ('Dhaka', (15486.513999999983, 596)),\n",
       " ('Faisalabad', (14668.851999999999, 596)),\n",
       " ('Fortaleza', (16352.733000000004, 596)),\n",
       " ('Guangzhou', (13096.371000000001, 596)),\n",
       " ('Harbin', (2643.501999999998, 596)),\n",
       " ('Ibadan', (15947.490000000022, 596)),\n",
       " ('Jaipur', (15444.839999999995, 596)),\n",
       " ('Jakarta', (16091.608000000017, 596)),\n",
       " ('Jiddah', (16735.74899999998, 596)),\n",
       " ('Kano', (15824.741, 596)),\n",
       " ('Lahore', (14668.851999999999, 596)),\n",
       " ('Los Angeles', (9695.929000000006, 597)),\n",
       " ('Manila', (16070.832999999986, 596)),\n",
       " ('Mexico', (9617.757999999996, 597)),\n",
       " ('Nagoya', (9095.040999999994, 596)),\n",
       " ('Nagpur', (15597.757999999994, 596)),\n",
       " ('New Delhi', (15304.077999999994, 596)),\n",
       " ('São Paulo', (12072.65499999999, 596)),\n",
       " ('Saint Petersburg', (2761.509000000001, 596)),\n",
       " ('Salvador', (15036.220000000003, 596)),\n",
       " ('Santiago', (3676.6410000000005, 596)),\n",
       " ('Surat', (16005.444999999996, 596)),\n",
       " ('Sydney', (10378.048999999999, 596)),\n",
       " ('Taipei', (13545.606000000009, 596)),\n",
       " ('Tangshan', (7269.480999999995, 596)),\n",
       " ('Umm Durman', (17571.669000000016, 596)),\n",
       " ('Xian', (7104.632000000003, 596)),\n",
       " ('Ankara', (6491.891000000009, 596)),\n",
       " ('Bangalore', (15118.952000000014, 596)),\n",
       " ('Bangkok', (16499.287999999997, 596)),\n",
       " ('Belo Horizonte', (12891.17699999999, 596)),\n",
       " ('Berlin', (5714.051999999992, 596)),\n",
       " ('Bogotá', (12222.531, 596)),\n",
       " ('Brasília', (13272.282999999992, 596)),\n",
       " ('Cairo', (12975.88700000001, 596)),\n",
       " ('Cali', (13291.162000000011, 596)),\n",
       " ('Cape Town', (9847.449999999995, 596)),\n",
       " ('Dakar', (14949.838, 596)),\n",
       " ('Dalian', (6459.366999999999, 596)),\n",
       " ('Dar Es Salaam', (15546.414000000008, 596)),\n",
       " ('Delhi', (15304.077999999994, 596)),\n",
       " ('Durban', (12404.943000000001, 596)),\n",
       " ('Gizeh', (12975.88700000001, 596)),\n",
       " ('Harare', (12273.349000000027, 596)),\n",
       " ('Ho Chi Minh City', (16495.587000000014, 596)),\n",
       " ('Hyderabad', (16319.099000000017, 596)),\n",
       " ('Istanbul', (8342.656, 596)),\n",
       " ('Izmir', (10540.749000000002, 596)),\n",
       " ('Jinan', (8135.328, 596)),\n",
       " ('Kabul', (8873.167, 596)),\n",
       " ('Kanpur', (15052.427999999989, 596)),\n",
       " ('Karachi', (15838.78200000002, 596)),\n",
       " ('Kiev', (4652.513999999994, 596)),\n",
       " ('Kinshasa', (14437.606999999996, 596)),\n",
       " ('Lagos', (16074.432999999983, 596)),\n",
       " ('Lakhnau', (15052.427999999989, 596)),\n",
       " ('Lima', (10201.531, 596)),\n",
       " ('London', (5962.376000000003, 596)),\n",
       " ('Luanda', (14354.321000000022, 596)),\n",
       " ('Madras', (17245.080000000005, 596)),\n",
       " ('Madrid', (7131.705000000006, 596)),\n",
       " ('Mashhad', (7951.455000000003, 596)),\n",
       " ('Melbourne', (8227.535999999993, 596)),\n",
       " ('Mogadishu', (16396.20799999999, 596)),\n",
       " ('Montreal', (3191.8530000000005, 597)),\n",
       " ('Moscow', (2901.3990000000026, 596)),\n",
       " ('Nairobi', (9799.038999999997, 596)),\n",
       " ('Nanjing', (9584.19100000001, 596)),\n",
       " ('New York', (6161.066000000001, 597)),\n",
       " ('Paris', (6547.733, 596)),\n",
       " ('Peking', (7444.598999999996, 596)),\n",
       " ('Pune', (14996.31600000001, 596)),\n",
       " ('Rangoon', (16239.753999999997, 596)),\n",
       " ('Rio De Janeiro', (14516.877999999986, 596)),\n",
       " ('Riyadh', (15403.519, 596)),\n",
       " ('Rome', (7457.959000000002, 596)),\n",
       " ('Santo Domingo', (15823.049999999997, 597)),\n",
       " ('Seoul', (6728.927, 596)),\n",
       " ('Shanghai', (9809.389999999996, 596)),\n",
       " ('Shenyang', (4717.866000000001, 596)),\n",
       " ('Singapore', (16112.594999999992, 596)),\n",
       " ('Surabaya', (16269.647000000003, 596)),\n",
       " ('Taiyuan', (5117.978000000001, 596)),\n",
       " ('Tianjin', (7444.598999999996, 596)),\n",
       " ('Tokyo', (7763.893, 596)),\n",
       " ('Toronto', (3912.6929999999993, 597)),\n",
       " ('Wuhan', (10277.295000000002, 596))]"
      ]
     },
     "execution_count": 51,
     "metadata": {},
     "output_type": "execute_result"
    }
   ],
   "source": [
    "rdd10 = rdd9.reduceByKey(lambda a, x: (a[0] + x[0], a[1] + x[1]))\n",
    "rdd10.collect()"
   ]
  },
  {
   "cell_type": "code",
   "execution_count": 54,
   "id": "03e01656",
   "metadata": {},
   "outputs": [
    {
     "data": {
      "text/plain": [
       "[(26.600332214765103, 'Abidjan'),\n",
       " (17.87980033557048, 'Addis Abeba'),\n",
       " (27.050808724832223, 'Ahmadabad'),\n",
       " (17.944998322147633, 'Aleppo'),\n",
       " (20.82230201342283, 'Alexandria'),\n",
       " (23.313369127516765, 'Baghdad'),\n",
       " (27.136213087248343, 'Bombay'),\n",
       " (26.540637583892607, 'Calcutta'),\n",
       " (17.693463087248308, 'Casablanca'),\n",
       " (5.7103825503355745, 'Changchun'),\n",
       " (10.972704697986591, 'Chengdu'),\n",
       " (10.743500837520939, 'Chicago'),\n",
       " (17.13951510067112, 'Chongqing'),\n",
       " (25.98408389261742, 'Dhaka'),\n",
       " (24.6121677852349, 'Faisalabad'),\n",
       " (27.437471476510073, 'Fortaleza'),\n",
       " (21.973776845637584, 'Guangzhou'),\n",
       " (4.435406040268453, 'Harbin'),\n",
       " (26.757533557047015, 'Ibadan'),\n",
       " (25.914161073825493, 'Jaipur'),\n",
       " (26.999342281879223, 'Jakarta'),\n",
       " (28.08011577181205, 'Jiddah'),\n",
       " (26.551578859060402, 'Kano'),\n",
       " (24.6121677852349, 'Lahore'),\n",
       " (16.241087102177563, 'Los Angeles'),\n",
       " (26.964484899328834, 'Manila'),\n",
       " (16.110147403685087, 'Mexico'),\n",
       " (15.260135906040258, 'Nagoya'),\n",
       " (26.17073489932885, 'Nagpur'),\n",
       " (25.6779832214765, 'New Delhi'),\n",
       " (20.256132550335554, 'São Paulo'),\n",
       " (4.633404362416109, 'Saint Petersburg'),\n",
       " (25.22855704697987, 'Salvador'),\n",
       " (6.1688607382550344, 'Santiago'),\n",
       " (26.854773489932878, 'Surat'),\n",
       " (17.41283389261745, 'Sydney'),\n",
       " (22.7275268456376, 'Taipei'),\n",
       " (12.197115771812072, 'Tangshan'),\n",
       " (29.482666107382578, 'Umm Durman'),\n",
       " (11.920523489932892, 'Xian'),\n",
       " (10.892434563758403, 'Ankara'),\n",
       " (25.367369127516803, 'Bangalore'),\n",
       " (27.683369127516773, 'Bangkok'),\n",
       " (21.62949161073824, 'Belo Horizonte'),\n",
       " (9.587335570469786, 'Berlin'),\n",
       " (20.50760234899329, 'Bogotá'),\n",
       " (22.26893120805368, 'Brasília'),\n",
       " (21.771622483221492, 'Cairo'),\n",
       " (22.300607382550353, 'Cali'),\n",
       " (16.522567114093953, 'Cape Town'),\n",
       " (25.083620805369126, 'Dakar'),\n",
       " (10.83786409395973, 'Dalian'),\n",
       " (26.084587248322162, 'Dar Es Salaam'),\n",
       " (25.6779832214765, 'Delhi'),\n",
       " (20.813662751677853, 'Durban'),\n",
       " (21.771622483221492, 'Gizeh'),\n",
       " (20.592867449664475, 'Harare'),\n",
       " (27.677159395973177, 'Ho Chi Minh City'),\n",
       " (27.381038590604053, 'Hyderabad'),\n",
       " (13.997744966442955, 'Istanbul'),\n",
       " (17.68582046979866, 'Izmir'),\n",
       " (13.649879194630874, 'Jinan'),\n",
       " (14.887864093959731, 'Kabul'),\n",
       " (25.25575167785233, 'Kanpur'),\n",
       " (26.57513758389265, 'Karachi'),\n",
       " (7.8062315436241505, 'Kiev'),\n",
       " (24.22417281879194, 'Kinshasa'),\n",
       " (26.970525167785205, 'Lagos'),\n",
       " (25.25575167785233, 'Lakhnau'),\n",
       " (17.116662751677854, 'Lima'),\n",
       " (10.003986577181212, 'London'),\n",
       " (24.08443120805373, 'Luanda'),\n",
       " (28.93469798657719, 'Madras'),\n",
       " (11.965947986577191, 'Madrid'),\n",
       " (13.341367449664434, 'Mashhad'),\n",
       " (13.804590604026833, 'Melbourne'),\n",
       " (27.510416107382536, 'Mogadishu'),\n",
       " (5.346487437185931, 'Montreal'),\n",
       " (4.868119127516783, 'Moscow'),\n",
       " (16.44134060402684, 'Nairobi'),\n",
       " (16.080857382550352, 'Nanjing'),\n",
       " (10.320043551088778, 'New York'),\n",
       " (10.986129194630873, 'Paris'),\n",
       " (12.49093791946308, 'Peking'),\n",
       " (25.161604026845655, 'Pune'),\n",
       " (27.24790939597315, 'Rangoon'),\n",
       " (24.35717785234897, 'Rio De Janeiro'),\n",
       " (25.844830536912752, 'Riyadh'),\n",
       " (12.51335402684564, 'Rome'),\n",
       " (26.504271356783914, 'Santo Domingo'),\n",
       " (11.290145973154361, 'Seoul'),\n",
       " (16.458708053691268, 'Shanghai'),\n",
       " (7.915882550335572, 'Shenyang'),\n",
       " (27.034555369127503, 'Singapore'),\n",
       " (27.298065436241615, 'Surabaya'),\n",
       " (8.587211409395975, 'Taiyuan'),\n",
       " (12.49093791946308, 'Tianjin'),\n",
       " (13.02666610738255, 'Tokyo'),\n",
       " (6.553924623115576, 'Toronto'),\n",
       " (17.24378355704698, 'Wuhan')]"
      ]
     },
     "execution_count": 54,
     "metadata": {},
     "output_type": "execute_result"
    }
   ],
   "source": [
    "rdd11 = rdd10.map(lambda x: (x[1][0]/x[1][1], x[0]))\n",
    "rdd11.collect()"
   ]
  },
  {
   "cell_type": "code",
   "execution_count": 55,
   "id": "e1e6cc9c",
   "metadata": {},
   "outputs": [
    {
     "data": {
      "text/plain": [
       "(4.435406040268453, 'Harbin')"
      ]
     },
     "execution_count": 55,
     "metadata": {},
     "output_type": "execute_result"
    }
   ],
   "source": [
    "rdd11.sortByKey().first()"
   ]
  },
  {
   "cell_type": "code",
   "execution_count": 56,
   "id": "05da6b9c",
   "metadata": {},
   "outputs": [
    {
     "data": {
      "text/plain": [
       "(29.482666107382578, 'Umm Durman')"
      ]
     },
     "execution_count": 56,
     "metadata": {},
     "output_type": "execute_result"
    }
   ],
   "source": [
    "rdd11.sortByKey(False).first()"
   ]
  },
  {
   "cell_type": "code",
   "execution_count": 57,
   "id": "152b91b5",
   "metadata": {},
   "outputs": [
    {
     "data": {
      "text/plain": [
       "25.047260067114124"
      ]
     },
     "execution_count": 57,
     "metadata": {},
     "output_type": "execute_result"
    }
   ],
   "source": [
    "29.482666107382578 - 4.435406040268453"
   ]
  },
  {
   "cell_type": "code",
   "execution_count": 86,
   "id": "8abafe0a",
   "metadata": {
    "scrolled": true
   },
   "outputs": [
    {
     "data": {
      "text/plain": [
       "['\"city\",\"city_ascii\",\"lat\",\"lng\",\"country\",\"iso2\",\"iso3\",\"admin_name\",\"capital\",\"population\",\"id\"',\n",
       " '\"Tokyo\",\"Tokyo\",\"35.6850\",\"139.7514\",\"Japan\",\"JP\",\"JPN\",\"Tōkyō\",\"primary\",\"35676000\",\"1392685764\"',\n",
       " '\"New York\",\"New York\",\"40.6943\",\"-73.9249\",\"United States\",\"US\",\"USA\",\"New York\",\"\",\"19354922.0\",\"1840034016\"',\n",
       " '\"Mexico City\",\"Mexico City\",\"19.4424\",\"-99.1310\",\"Mexico\",\"MX\",\"MEX\",\"Ciudad de México\",\"primary\",\"19028000\",\"1484247881\"',\n",
       " '\"Mumbai\",\"Mumbai\",\"19.0170\",\"72.8570\",\"India\",\"IN\",\"IND\",\"Mahārāshtra\",\"admin\",\"18978000\",\"1356226629\"']"
      ]
     },
     "execution_count": 86,
     "metadata": {},
     "output_type": "execute_result"
    }
   ],
   "source": [
    "rddp1 = sc.textFile(\"../Downloads/worldcities.csv\")\n",
    "rddp1.take(5)"
   ]
  },
  {
   "cell_type": "code",
   "execution_count": 87,
   "id": "7e4d07fd",
   "metadata": {},
   "outputs": [
    {
     "data": {
      "text/plain": [
       "['\"Tokyo\",\"Tokyo\",\"35.6850\",\"139.7514\",\"Japan\",\"JP\",\"JPN\",\"Tōkyō\",\"primary\",\"35676000\",\"1392685764\"',\n",
       " '\"New York\",\"New York\",\"40.6943\",\"-73.9249\",\"United States\",\"US\",\"USA\",\"New York\",\"\",\"19354922.0\",\"1840034016\"',\n",
       " '\"Mexico City\",\"Mexico City\",\"19.4424\",\"-99.1310\",\"Mexico\",\"MX\",\"MEX\",\"Ciudad de México\",\"primary\",\"19028000\",\"1484247881\"',\n",
       " '\"Mumbai\",\"Mumbai\",\"19.0170\",\"72.8570\",\"India\",\"IN\",\"IND\",\"Mahārāshtra\",\"admin\",\"18978000\",\"1356226629\"',\n",
       " '\"São Paulo\",\"Sao Paulo\",\"-23.5587\",\"-46.6250\",\"Brazil\",\"BR\",\"BRA\",\"São Paulo\",\"admin\",\"18845000\",\"1076532519\"']"
      ]
     },
     "execution_count": 87,
     "metadata": {},
     "output_type": "execute_result"
    }
   ],
   "source": [
    "rddp2 = rddp1.filter(lambda x: not x.startswith('\"city\"'))\n",
    "rddp2.take(5)"
   ]
  },
  {
   "cell_type": "code",
   "execution_count": 88,
   "id": "1b1a0bb1",
   "metadata": {},
   "outputs": [
    {
     "data": {
      "text/plain": [
       "[['\"Tokyo\"',\n",
       "  '\"Tokyo\"',\n",
       "  '\"35.6850\"',\n",
       "  '\"139.7514\"',\n",
       "  '\"Japan\"',\n",
       "  '\"JP\"',\n",
       "  '\"JPN\"',\n",
       "  '\"Tōkyō\"',\n",
       "  '\"primary\"',\n",
       "  '\"35676000\"',\n",
       "  '\"1392685764\"'],\n",
       " ['\"New York\"',\n",
       "  '\"New York\"',\n",
       "  '\"40.6943\"',\n",
       "  '\"-73.9249\"',\n",
       "  '\"United States\"',\n",
       "  '\"US\"',\n",
       "  '\"USA\"',\n",
       "  '\"New York\"',\n",
       "  '\"\"',\n",
       "  '\"19354922.0\"',\n",
       "  '\"1840034016\"'],\n",
       " ['\"Mexico City\"',\n",
       "  '\"Mexico City\"',\n",
       "  '\"19.4424\"',\n",
       "  '\"-99.1310\"',\n",
       "  '\"Mexico\"',\n",
       "  '\"MX\"',\n",
       "  '\"MEX\"',\n",
       "  '\"Ciudad de México\"',\n",
       "  '\"primary\"',\n",
       "  '\"19028000\"',\n",
       "  '\"1484247881\"'],\n",
       " ['\"Mumbai\"',\n",
       "  '\"Mumbai\"',\n",
       "  '\"19.0170\"',\n",
       "  '\"72.8570\"',\n",
       "  '\"India\"',\n",
       "  '\"IN\"',\n",
       "  '\"IND\"',\n",
       "  '\"Mahārāshtra\"',\n",
       "  '\"admin\"',\n",
       "  '\"18978000\"',\n",
       "  '\"1356226629\"'],\n",
       " ['\"São Paulo\"',\n",
       "  '\"Sao Paulo\"',\n",
       "  '\"-23.5587\"',\n",
       "  '\"-46.6250\"',\n",
       "  '\"Brazil\"',\n",
       "  '\"BR\"',\n",
       "  '\"BRA\"',\n",
       "  '\"São Paulo\"',\n",
       "  '\"admin\"',\n",
       "  '\"18845000\"',\n",
       "  '\"1076532519\"']]"
      ]
     },
     "execution_count": 88,
     "metadata": {},
     "output_type": "execute_result"
    }
   ],
   "source": [
    "rddp3 = rddp2.map(lambda x: x.split(\",\"))\n",
    "rddp3.take(5)"
   ]
  },
  {
   "cell_type": "code",
   "execution_count": 78,
   "id": "c4f12425",
   "metadata": {},
   "outputs": [
    {
     "data": {
      "text/plain": [
       "15493"
      ]
     },
     "execution_count": 78,
     "metadata": {},
     "output_type": "execute_result"
    }
   ],
   "source": [
    "rddp3.count()"
   ]
  },
  {
   "cell_type": "code",
   "execution_count": 89,
   "id": "53d9e610",
   "metadata": {},
   "outputs": [
    {
     "data": {
      "text/plain": [
       "[('Tokyo', '35676000'),\n",
       " ('New York', '19354922.0'),\n",
       " ('Mexico City', '19028000'),\n",
       " ('Mumbai', '18978000'),\n",
       " ('São Paulo', '18845000')]"
      ]
     },
     "execution_count": 89,
     "metadata": {},
     "output_type": "execute_result"
    }
   ],
   "source": [
    "rddp4 = rddp3.map(lambda x: (x[0].strip('\"'), x[-2].strip('\"')))\n",
    "rddp4.take(5)"
   ]
  },
  {
   "cell_type": "code",
   "execution_count": 90,
   "id": "ad68888c",
   "metadata": {},
   "outputs": [
    {
     "data": {
      "text/plain": [
       "[('Tokyo', '35676000'),\n",
       " ('New York', '19354922.0'),\n",
       " ('Mexico City', '19028000'),\n",
       " ('Mumbai', '18978000'),\n",
       " ('São Paulo', '18845000')]"
      ]
     },
     "execution_count": 90,
     "metadata": {},
     "output_type": "execute_result"
    }
   ],
   "source": [
    "rddp5 = rddp4.filter(lambda x: x != '')\n",
    "rddp5.take(5)"
   ]
  },
  {
   "cell_type": "code",
   "execution_count": 99,
   "id": "ad3e7159",
   "metadata": {},
   "outputs": [
    {
     "name": "stderr",
     "output_type": "stream",
     "text": [
      "\r",
      "                                                                                \r"
     ]
    },
    {
     "data": {
      "text/plain": [
       "[('Tokyo', 35676000.0),\n",
       " ('New York', 19354922.0),\n",
       " ('Mexico City', 19028000.0),\n",
       " ('Mumbai', 18978000.0),\n",
       " ('São Paulo', 18845000.0)]"
      ]
     },
     "execution_count": 99,
     "metadata": {},
     "output_type": "execute_result"
    }
   ],
   "source": [
    "def convert(x):\n",
    "    try:\n",
    "        return float(x)\n",
    "    except ValueError:\n",
    "        return 0\n",
    "\n",
    "rddp6 = rddp5.map(lambda x: (x[0], convert(x[1])))\n",
    "rddp6.take(5)"
   ]
  },
  {
   "cell_type": "code",
   "execution_count": 92,
   "id": "cfee1aaf",
   "metadata": {},
   "outputs": [
    {
     "data": {
      "text/plain": [
       "[('Abidjan', 26.600332214765103),\n",
       " ('Addis Abeba', 17.87980033557048),\n",
       " ('Ahmadabad', 27.050808724832223),\n",
       " ('Aleppo', 17.944998322147633),\n",
       " ('Alexandria', 20.82230201342283)]"
      ]
     },
     "execution_count": 92,
     "metadata": {},
     "output_type": "execute_result"
    }
   ],
   "source": [
    "rddt = rdd10.map(lambda x: (x[0], x[1][0]/x[1][1]))\n",
    "rddt.take(5)"
   ]
  },
  {
   "cell_type": "code",
   "execution_count": 93,
   "id": "dd5e4bbc",
   "metadata": {},
   "outputs": [
    {
     "data": {
      "text/plain": [
       "100"
      ]
     },
     "execution_count": 93,
     "metadata": {},
     "output_type": "execute_result"
    }
   ],
   "source": [
    "rddt.count()"
   ]
  },
  {
   "cell_type": "code",
   "execution_count": 100,
   "id": "3ddd3ea4",
   "metadata": {},
   "outputs": [
    {
     "name": "stderr",
     "output_type": "stream",
     "text": [
      "                                                                                \r"
     ]
    },
    {
     "data": {
      "text/plain": [
       "[('Changchun', (5.7103825503355745, 3183000.0)),\n",
       " ('Chengdu', (10.972704697986591, 4123000.0)),\n",
       " ('Chongqing', (17.13951510067112, 6461000.0)),\n",
       " ('Dhaka', (25.98408389261742, 12797394.0)),\n",
       " ('Faisalabad', (24.6121677852349, 2617000.0))]"
      ]
     },
     "execution_count": 100,
     "metadata": {},
     "output_type": "execute_result"
    }
   ],
   "source": [
    "rddr = rddt.join(rddp6)\n",
    "rddr.take(5)"
   ]
  },
  {
   "cell_type": "code",
   "execution_count": 101,
   "id": "38ba14f1",
   "metadata": {},
   "outputs": [
    {
     "data": {
      "text/plain": [
       "111"
      ]
     },
     "execution_count": 101,
     "metadata": {},
     "output_type": "execute_result"
    }
   ],
   "source": [
    "rddr.count()"
   ]
  },
  {
   "cell_type": "code",
   "execution_count": 102,
   "id": "a575ee68",
   "metadata": {},
   "outputs": [
    {
     "name": "stderr",
     "output_type": "stream",
     "text": [
      "\r",
      "[Stage 154:>                                                        (0 + 4) / 4]\r",
      "\r",
      "                                                                                \r"
     ]
    },
    {
     "data": {
      "text/plain": [
       "[('Changchun', (5.7103825503355745, 3183000.0)),\n",
       " ('Chengdu', (10.972704697986591, 4123000.0)),\n",
       " ('Chongqing', (17.13951510067112, 6461000.0)),\n",
       " ('Dhaka', (25.98408389261742, 12797394.0)),\n",
       " ('Faisalabad', (24.6121677852349, 2617000.0)),\n",
       " ('Fortaleza', (27.437471476510073, 3602319.0)),\n",
       " ('Jaipur', (25.914161073825493, 2917000.0)),\n",
       " ('Jakarta', (26.999342281879223, 9125000.0)),\n",
       " ('Mexico', (16.110147403685087, 11320.0)),\n",
       " ('Santiago', (6.1688607382550344, 5720000.0)),\n",
       " ('Santiago', (6.1688607382550344, 1550753.0)),\n",
       " ('Santiago', (6.1688607382550344, 45955.0)),\n",
       " ('Santiago', (6.1688607382550344, 0)),\n",
       " ('Santiago', (6.1688607382550344, 10449.0)),\n",
       " ('Tangshan', (12.197115771812072, 1879000.0)),\n",
       " ('Ankara', (10.892434563758403, 3716000.0)),\n",
       " ('Bogotá', (20.50760234899329, 7772000.0)),\n",
       " ('Brasília', (22.26893120805368, 3716996.0)),\n",
       " ('Harare', (20.592867449664475, 1572000.0)),\n",
       " ('Hyderabad', (27.381038590604053, 6376000.0)),\n",
       " ('Kinshasa', (24.22417281879194, 7843000.0)),\n",
       " ('Lagos', (26.970525167785205, 9466000.0)),\n",
       " ('Luanda', (24.08443120805373, 5172900.0)),\n",
       " ('Madras', (28.93469798657719, 9059.0)),\n",
       " ('Madrid', (11.965947986577191, 5567000.0)),\n",
       " ('Mashhad', (13.341367449664434, 2469000.0)),\n",
       " ('Melbourne', (13.804590604026833, 4170000.0)),\n",
       " ('Melbourne', (13.804590604026833, 82011.0)),\n",
       " ('Moscow', (4.868119127516783, 10452000.0)),\n",
       " ('Moscow', (4.868119127516783, 25579.0)),\n",
       " ('Pune', (25.161604026845655, 4672000.0)),\n",
       " ('Rangoon', (27.24790939597315, 4088000.0)),\n",
       " ('Rome', (12.51335402684564, 3339000.0)),\n",
       " ('Rome', (12.51335402684564, 60966.0)),\n",
       " ('Rome', (12.51335402684564, 32185.0)),\n",
       " ('Seoul', (11.290145973154361, 9796000.0)),\n",
       " ('Shanghai', (16.458708053691268, 14987000.0)),\n",
       " ('Shenyang', (7.915882550335572, 4787000.0)),\n",
       " ('Singapore', (27.034555369127503, 5183700.0)),\n",
       " ('Surabaya', (27.298065436241615, 2845000.0)),\n",
       " ('Tokyo', (13.02666610738255, 35676000.0)),\n",
       " ('Toronto', (6.553924623115576, 5213000.0)),\n",
       " ('Abidjan', (26.600332214765103, 3802000.0)),\n",
       " ('Aleppo', (17.944998322147633, 2738000.0)),\n",
       " ('Alexandria', (20.82230201342283, 4165000.0)),\n",
       " ('Alexandria', (20.82230201342283, 160035.0)),\n",
       " ('Alexandria', (20.82230201342283, 49346.0)),\n",
       " ('Alexandria', (20.82230201342283, 82131.0)),\n",
       " ('Alexandria', (20.82230201342283, 20851.0)),\n",
       " ('Alexandria', (20.82230201342283, 9438.0)),\n",
       " ('Alexandria', (20.82230201342283, 5015.0)),\n",
       " ('Baghdad', (23.313369127516765, 5054000.0)),\n",
       " ('Casablanca', (17.693463087248308, 3181000.0)),\n",
       " ('Chicago', (10.743500837520939, 8675982.0)),\n",
       " ('Guangzhou', (21.973776845637584, 8829000.0)),\n",
       " ('Harbin', (4.435406040268453, 3621000.0)),\n",
       " ('Ibadan', (26.757533557047015, 2628000.0)),\n",
       " ('Kano', (26.551578859060402, 3140000.0)),\n",
       " ('Lahore', (24.6121677852349, 6577000.0)),\n",
       " ('Los Angeles', (16.241087102177563, 12815475.0)),\n",
       " ('Manila', (26.964484899328834, 11100000.0)),\n",
       " ('Nagoya', (15.260135906040258, 3230000.0)),\n",
       " ('New Delhi', (25.6779832214765, 317797.0)),\n",
       " ('São Paulo', (20.256132550335554, 18845000.0)),\n",
       " ('Saint Petersburg', (4.633404362416109, 4553000.0)),\n",
       " ('Salvador', (25.22855704697987, 3484000.0)),\n",
       " ('Sydney', (17.41283389261745, 4630000.0)),\n",
       " ('Sydney', (17.41283389261745, 37538.0)),\n",
       " ('Taipei', (22.7275268456376, 6900273.0)),\n",
       " ('Bangkok', (27.683369127516773, 6704000.0)),\n",
       " ('Belo Horizonte', (21.62949161073824, 5575000.0)),\n",
       " ('Berlin', (9.587335570469786, 3406000.0)),\n",
       " ('Berlin', (9.587335570469786, 20584.0)),\n",
       " ('Berlin', (9.587335570469786, 11351.0)),\n",
       " ('Berlin', (9.587335570469786, 7606.0)),\n",
       " ('Cairo', (21.771622483221492, 11893000.0)),\n",
       " ('Cairo', (21.771622483221492, 9244.0)),\n",
       " ('Cairo', (21.771622483221492, 6483.0)),\n",
       " ('Cali', (22.300607382550353, 2254000.0)),\n",
       " ('Cape Town', (16.522567114093953, 3215000.0)),\n",
       " ('Dakar', (25.083620805369126, 2604000.0)),\n",
       " ('Dalian', (10.83786409395973, 3167000.0)),\n",
       " ('Delhi', (25.6779832214765, 15926000.0)),\n",
       " ('Delhi', (25.6779832214765, 11622.0)),\n",
       " ('Durban', (20.813662751677853, 2729000.0)),\n",
       " ('Ho Chi Minh City', (27.677159395973177, 5314000.0)),\n",
       " ('Istanbul', (13.997744966442955, 10061000.0)),\n",
       " ('Jinan', (13.649879194630874, 2798000.0)),\n",
       " ('Kabul', (14.887864093959731, 3277000.0)),\n",
       " ('Karachi', (26.57513758389265, 12130000.0)),\n",
       " ('Lima', (17.116662751677854, 8012000.0)),\n",
       " ('Lima', (17.116662751677854, 69798.0)),\n",
       " ('London', (10.003986577181212, 8567000.0)),\n",
       " ('London', (10.003986577181212, 346765.0)),\n",
       " ('London', (10.003986577181212, 37424.0)),\n",
       " ('London', (10.003986577181212, 14597.0)),\n",
       " ('Mogadishu', (27.510416107382536, 1100000.0)),\n",
       " ('Nairobi', (16.44134060402684, 3010000.0)),\n",
       " ('Nanjing', (16.080857382550352, 3679000.0)),\n",
       " ('New York', (10.320043551088778, 19354922.0)),\n",
       " ('Paris', (10.986129194630873, 9904000.0)),\n",
       " ('Paris', (10.986129194630873, 25961.0)),\n",
       " ('Paris', (10.986129194630873, 12662.0)),\n",
       " ('Paris', (10.986129194630873, 10576.0)),\n",
       " ('Paris', (10.986129194630873, 8431.0)),\n",
       " ('Paris', (10.986129194630873, 5148.0)),\n",
       " ('Riyadh', (25.844830536912752, 4465000.0)),\n",
       " ('Santo Domingo', (26.504271356783914, 2154000.0)),\n",
       " ('Taiyuan', (8.587211409395975, 2913000.0)),\n",
       " ('Tianjin', (12.49093791946308, 7180000.0)),\n",
       " ('Wuhan', (17.24378355704698, 7243000.0))]"
      ]
     },
     "execution_count": 102,
     "metadata": {},
     "output_type": "execute_result"
    }
   ],
   "source": [
    "rddr.collect()"
   ]
  },
  {
   "cell_type": "code",
   "execution_count": 104,
   "id": "01357634",
   "metadata": {},
   "outputs": [
    {
     "name": "stderr",
     "output_type": "stream",
     "text": [
      "                                                                                \r"
     ]
    },
    {
     "data": {
      "text/plain": [
       "[('Mexico City', 19028000.0),\n",
       " ('Mumbai', 18978000.0),\n",
       " ('São Paulo', 18845000.0),\n",
       " ('Los Angeles', 12815475.0),\n",
       " ('Dhaka', 12797394.0)]"
      ]
     },
     "execution_count": 104,
     "metadata": {},
     "output_type": "execute_result"
    }
   ],
   "source": [
    "rddp7 = rddp6.reduceByKey(lambda a, x: max(a, x))\n",
    "rddp7.take(5)"
   ]
  },
  {
   "cell_type": "code",
   "execution_count": 105,
   "id": "bbec62cc",
   "metadata": {},
   "outputs": [
    {
     "name": "stderr",
     "output_type": "stream",
     "text": [
      "                                                                                \r"
     ]
    },
    {
     "data": {
      "text/plain": [
       "[('Changchun', (5.7103825503355745, 3183000.0)),\n",
       " ('Chengdu', (10.972704697986591, 4123000.0)),\n",
       " ('Chongqing', (17.13951510067112, 6461000.0)),\n",
       " ('Dhaka', (25.98408389261742, 12797394.0)),\n",
       " ('Faisalabad', (24.6121677852349, 2617000.0))]"
      ]
     },
     "execution_count": 105,
     "metadata": {},
     "output_type": "execute_result"
    }
   ],
   "source": [
    "rddr = rddt.join(rddp7)\n",
    "rddr.take(5)"
   ]
  },
  {
   "cell_type": "code",
   "execution_count": 106,
   "id": "3942c073",
   "metadata": {},
   "outputs": [
    {
     "name": "stderr",
     "output_type": "stream",
     "text": [
      "\r",
      "[Stage 164:>                                                        (0 + 4) / 4]\r",
      "\r",
      "                                                                                \r"
     ]
    },
    {
     "data": {
      "text/plain": [
       "81"
      ]
     },
     "execution_count": 106,
     "metadata": {},
     "output_type": "execute_result"
    }
   ],
   "source": [
    "rddr.count()"
   ]
  },
  {
   "cell_type": "code",
   "execution_count": 107,
   "id": "f7eb86c2",
   "metadata": {},
   "outputs": [
    {
     "name": "stderr",
     "output_type": "stream",
     "text": [
      "                                                                                \r"
     ]
    }
   ],
   "source": [
    "d = rddr.collect()"
   ]
  },
  {
   "cell_type": "code",
   "execution_count": 114,
   "id": "c46dcac1",
   "metadata": {},
   "outputs": [],
   "source": [
    "t = [x[1][0] for x in d]\n",
    "p = [x[1][1] for x in d]"
   ]
  },
  {
   "cell_type": "code",
   "execution_count": 115,
   "id": "7033341d",
   "metadata": {},
   "outputs": [
    {
     "data": {
      "text/plain": [
       "array([[ 1.        , -0.08852133],\n",
       "       [-0.08852133,  1.        ]])"
      ]
     },
     "execution_count": 115,
     "metadata": {},
     "output_type": "execute_result"
    }
   ],
   "source": [
    "import numpy as np\n",
    "\n",
    "np.corrcoef(t, p)"
   ]
  }
 ],
 "metadata": {
  "kernelspec": {
   "display_name": "Python 3 (ipykernel)",
   "language": "python",
   "name": "python3"
  },
  "language_info": {
   "codemirror_mode": {
    "name": "ipython",
    "version": 3
   },
   "file_extension": ".py",
   "mimetype": "text/x-python",
   "name": "python",
   "nbconvert_exporter": "python",
   "pygments_lexer": "ipython3",
   "version": "3.10.0"
  }
 },
 "nbformat": 4,
 "nbformat_minor": 5
}
