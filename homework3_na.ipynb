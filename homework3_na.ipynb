{
 "cells": [
  {
   "cell_type": "code",
   "execution_count": 6,
   "id": "68baabee",
   "metadata": {
    "scrolled": false
   },
   "outputs": [
    {
     "name": "stdout",
     "output_type": "stream",
     "text": [
      "Action? ('end' for exit / 'add' for new task / 'view' for see tasks for a date)add\n",
      "Date? 20230101\n",
      "Task? Make coffee\n",
      "Action? ('end' for exit / 'add' for new task / 'view' for see tasks for a date)add\n",
      "Date? 20230102\n",
      "Task? Wake up\n",
      "Action? ('end' for exit / 'add' for new task / 'view' for see tasks for a date)view\n",
      "Date? 20230101\n",
      "Make coffee\n",
      "Action? ('end' for exit / 'add' for new task / 'view' for see tasks for a date)end\n"
     ]
    }
   ],
   "source": [
    "from dateutil import parser\n",
    "import csv\n",
    "\n",
    "action = ''\n",
    "\n",
    "def f_validate():\n",
    "    while True:\n",
    "        date = input(\"Date? \")\n",
    "        try:\n",
    "            if len(date) < 8:\n",
    "                raise ValueError()\n",
    "            return parser.parse(date).strftime(\"%Y%m%d\")\n",
    "        except ValueError:\n",
    "            print(\"Incorrect date format\")\n",
    "        except OverflowError:\n",
    "            print(\"Incorrect date format\")\n",
    "\n",
    "            \n",
    "def f_new_task():\n",
    "    while True:\n",
    "        task = input(\"Task? \")\n",
    "        try:\n",
    "            if not task:\n",
    "                raise ValueError()\n",
    "            return task\n",
    "        except ValueError:\n",
    "            print(\"Task cannot be empty\")\n",
    "\n",
    "            \n",
    "def f_view_task(tasks, date):\n",
    "    task_per_date = [task for date_, task in tasks if date == date_]\n",
    "    if not task_per_date:\n",
    "        print(f'no tasks for the {date}')\n",
    "    else:\n",
    "        for task in task_per_date:\n",
    "            print(task)\n",
    "\n",
    "def write_file(tasks):\n",
    "    with open(\"tasks.csv\", \"wt\", newline='') as f:\n",
    "        w = csv.writer(f)\n",
    "        for row in tasks:\n",
    "            w.writerow(row)\n",
    "              \n",
    "def read_file():              \n",
    "    with open(\"tasks.csv\", \"rt\") as f:\n",
    "        r = csv.reader(f)\n",
    "        return [row for row in r]\n",
    "\n",
    "              \n",
    "def save_file(save):\n",
    "    try:\n",
    "        tasks = read_file()\n",
    "    except FileNotFoundError:\n",
    "        tasks = []\n",
    "    tasks.append(save)\n",
    "    write_file(tasks)\n",
    "              \n",
    "              \n",
    "while action != \"end\":\n",
    "    action = input(\"Action? ('end' for exit / 'add' for new task\" \\\n",
    "                   \" / 'view' for see tasks for a date)\").lower()\n",
    "    if action == 'add':\n",
    "        date_task = f_validate()\n",
    "        new_task = f_new_task()\n",
    "        save_file((date_task, new_task))\n",
    "    elif action == 'view':\n",
    "        try:\n",
    "            tasks = read_file()\n",
    "        except FileNotFoundError:\n",
    "            print(\"Tasks is empty\")\n",
    "            continue\n",
    "        date_task = f_validate()\n",
    "        f_view_task(tasks, date_task)\n",
    "    elif action != \"end\":\n",
    "        print('Wrong action')"
   ]
  },
  {
   "cell_type": "code",
   "execution_count": 7,
   "id": "c67aec34",
   "metadata": {},
   "outputs": [
    {
     "name": "stdout",
     "output_type": "stream",
     "text": [
      "Collecting pyspark\n",
      "  Using cached pyspark-3.2.0.tar.gz (281.3 MB)\n",
      "Collecting py4j==0.10.9.2\n",
      "  Using cached py4j-0.10.9.2-py2.py3-none-any.whl (198 kB)\n",
      "Using legacy 'setup.py install' for pyspark, since package 'wheel' is not installed.\n",
      "Installing collected packages: py4j, pyspark\n",
      "    Running setup.py install for pyspark ... \u001b[?25ldone\n",
      "\u001b[?25hSuccessfully installed py4j-0.10.9.2 pyspark-3.2.0\n",
      "\u001b[33mWARNING: You are using pip version 21.2.3; however, version 21.3.1 is available.\n",
      "You should consider upgrading via the '/home/z/220117bd/env/bin/python3 -m pip install --upgrade pip' command.\u001b[0m\n"
     ]
    }
   ],
   "source": [
    "!pip install pyspark"
   ]
  },
  {
   "cell_type": "code",
   "execution_count": 8,
   "id": "d8a201d9",
   "metadata": {},
   "outputs": [],
   "source": [
    "import pyspark"
   ]
  },
  {
   "cell_type": "code",
   "execution_count": 9,
   "id": "c3106e2d",
   "metadata": {},
   "outputs": [
    {
     "name": "stderr",
     "output_type": "stream",
     "text": [
      "22/01/20 18:09:39 WARN Utils: Your hostname, z-ThinkPad-E490 resolves to a loopback address: 127.0.1.1; using 192.168.1.109 instead (on interface wlp5s0)\n",
      "22/01/20 18:09:39 WARN Utils: Set SPARK_LOCAL_IP if you need to bind to another address\n",
      "WARNING: An illegal reflective access operation has occurred\n",
      "WARNING: Illegal reflective access by org.apache.spark.unsafe.Platform (file:/home/z/220117bd/env/lib/python3.10/site-packages/pyspark/jars/spark-unsafe_2.12-3.2.0.jar) to constructor java.nio.DirectByteBuffer(long,int)\n",
      "WARNING: Please consider reporting this to the maintainers of org.apache.spark.unsafe.Platform\n",
      "WARNING: Use --illegal-access=warn to enable warnings of further illegal reflective access operations\n",
      "WARNING: All illegal access operations will be denied in a future release\n",
      "Using Spark's default log4j profile: org/apache/spark/log4j-defaults.properties\n",
      "Setting default log level to \"WARN\".\n",
      "To adjust logging level use sc.setLogLevel(newLevel). For SparkR, use setLogLevel(newLevel).\n",
      "22/01/20 18:09:40 WARN NativeCodeLoader: Unable to load native-hadoop library for your platform... using builtin-java classes where applicable\n"
     ]
    }
   ],
   "source": [
    "sc = pyspark.SparkContext()"
   ]
  },
  {
   "cell_type": "code",
   "execution_count": 10,
   "id": "cc8b54a0",
   "metadata": {},
   "outputs": [],
   "source": [
    "rdd1 = sc.textFile(\"./pg1661.txt\")"
   ]
  },
  {
   "cell_type": "code",
   "execution_count": 11,
   "id": "8fc30706",
   "metadata": {},
   "outputs": [
    {
     "name": "stderr",
     "output_type": "stream",
     "text": [
      "                                                                                \r"
     ]
    },
    {
     "data": {
      "text/plain": [
       "[\"Project Gutenberg's The Adventures of Sherlock Holmes, by Arthur Conan Doyle\",\n",
       " '',\n",
       " 'This eBook is for the use of anyone anywhere at no cost and with',\n",
       " 'almost no restrictions whatsoever.  You may copy it, give it away or',\n",
       " 're-use it under the terms of the Project Gutenberg License included',\n",
       " 'with this eBook or online at www.gutenberg.net',\n",
       " '',\n",
       " '',\n",
       " 'Title: The Adventures of Sherlock Holmes',\n",
       " '']"
      ]
     },
     "execution_count": 11,
     "metadata": {},
     "output_type": "execute_result"
    }
   ],
   "source": [
    "rdd1.take(10)"
   ]
  },
  {
   "cell_type": "code",
   "execution_count": 14,
   "id": "deeab20d",
   "metadata": {},
   "outputs": [],
   "source": [
    "rdd2 = rdd1.map(lambda s: s.lower())"
   ]
  },
  {
   "cell_type": "code",
   "execution_count": 15,
   "id": "15c8a880",
   "metadata": {},
   "outputs": [
    {
     "data": {
      "text/plain": [
       "[\"project gutenberg's the adventures of sherlock holmes, by arthur conan doyle\",\n",
       " '',\n",
       " 'this ebook is for the use of anyone anywhere at no cost and with',\n",
       " 'almost no restrictions whatsoever.  you may copy it, give it away or',\n",
       " 're-use it under the terms of the project gutenberg license included',\n",
       " 'with this ebook or online at www.gutenberg.net',\n",
       " '',\n",
       " '',\n",
       " 'title: the adventures of sherlock holmes',\n",
       " '']"
      ]
     },
     "execution_count": 15,
     "metadata": {},
     "output_type": "execute_result"
    }
   ],
   "source": [
    "rdd2.take(10)"
   ]
  },
  {
   "cell_type": "code",
   "execution_count": 16,
   "id": "d9f05aea",
   "metadata": {},
   "outputs": [],
   "source": [
    "import re"
   ]
  },
  {
   "cell_type": "code",
   "execution_count": 17,
   "id": "388f4d33",
   "metadata": {},
   "outputs": [
    {
     "data": {
      "text/plain": [
       "\"project gutenberg's the adventures of sherlock holmes, by arthur conan doyle\""
      ]
     },
     "execution_count": 17,
     "metadata": {},
     "output_type": "execute_result"
    }
   ],
   "source": [
    "rdd2.first()"
   ]
  },
  {
   "cell_type": "code",
   "execution_count": 18,
   "id": "3e5faef5",
   "metadata": {},
   "outputs": [
    {
     "data": {
      "text/plain": [
       "\"project gutenberg's the adventures of sherlock holmes, by arthur conan doyle\""
      ]
     },
     "execution_count": 18,
     "metadata": {},
     "output_type": "execute_result"
    }
   ],
   "source": [
    "s = rdd2.first()\n",
    "s"
   ]
  },
  {
   "cell_type": "code",
   "execution_count": 19,
   "id": "9cf43e03",
   "metadata": {},
   "outputs": [
    {
     "data": {
      "text/plain": [
       "['project',\n",
       " 'gutenberg',\n",
       " 's',\n",
       " 'the',\n",
       " 'adventures',\n",
       " 'of',\n",
       " 'sherlock',\n",
       " 'holmes',\n",
       " 'by',\n",
       " 'arthur',\n",
       " 'conan',\n",
       " 'doyle']"
      ]
     },
     "execution_count": 19,
     "metadata": {},
     "output_type": "execute_result"
    }
   ],
   "source": [
    "re.findall(r\"\\w+\", s)"
   ]
  },
  {
   "cell_type": "code",
   "execution_count": 22,
   "id": "9dac2a51",
   "metadata": {},
   "outputs": [
    {
     "data": {
      "text/plain": [
       "['project',\n",
       " 'gutenberg',\n",
       " 's',\n",
       " 'the',\n",
       " 'adventures',\n",
       " 'of',\n",
       " 'sherlock',\n",
       " 'holmes',\n",
       " 'by',\n",
       " 'arthur',\n",
       " 'conan',\n",
       " 'doyle',\n",
       " 'this',\n",
       " 'ebook',\n",
       " 'is',\n",
       " 'for',\n",
       " 'the',\n",
       " 'use',\n",
       " 'of',\n",
       " 'anyone']"
      ]
     },
     "execution_count": 22,
     "metadata": {},
     "output_type": "execute_result"
    }
   ],
   "source": [
    "rdd3 = rdd2.flatMap(lambda s: re.findall(r\"\\w+\", s))\n",
    "rdd3.take(20)"
   ]
  }
 ],
 "metadata": {
  "kernelspec": {
   "display_name": "Python 3 (ipykernel)",
   "language": "python",
   "name": "python3"
  },
  "language_info": {
   "codemirror_mode": {
    "name": "ipython",
    "version": 3
   },
   "file_extension": ".py",
   "mimetype": "text/x-python",
   "name": "python",
   "nbconvert_exporter": "python",
   "pygments_lexer": "ipython3",
   "version": "3.10.0"
  }
 },
 "nbformat": 4,
 "nbformat_minor": 5
}
