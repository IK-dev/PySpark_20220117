{
 "cells": [
  {
   "cell_type": "code",
   "execution_count": 19,
   "id": "ffcc7802",
   "metadata": {
    "scrolled": false
   },
   "outputs": [
    {
     "data": {
      "text/plain": [
       "'Реализовать возможность сохранения и чтения списка задач в/из файла'"
      ]
     },
     "execution_count": 19,
     "metadata": {},
     "output_type": "execute_result"
    }
   ],
   "source": [
    "'''Реализовать возможность сохранения и чтения списка задач в/из файла'''"
   ]
  },
  {
   "cell_type": "code",
   "execution_count": 6,
   "id": "93c9966b",
   "metadata": {
    "scrolled": false
   },
   "outputs": [
    {
     "name": "stdout",
     "output_type": "stream",
     "text": [
      "If you need to SAVE new task pls type \"S\" or If you need to READ new task pls type \"R\":\n",
      "Make coffee\n",
      "\n"
     ]
    }
   ],
   "source": [
    "def add_task ():\n",
    "    task = input('Type new task to save:\\n')\n",
    "    with open(\"file1.txt\", \"at\") as f: \n",
    "        f.write(task + \"\\n\")\n",
    "    print('Task saved')\n",
    "    \n",
    "def read_task ():\n",
    "    try:\n",
    "        with open(\"file1.txt\", \"r+t\") as f:\n",
    "            for line in f:\n",
    "                print(line)\n",
    "    except FileNotFoundError:\n",
    "        print(\"ToDo List is empty\")\n",
    "        \n",
    "def choose_action (ch_action):\n",
    "    if ch_action =='S':\n",
    "        add_task ()\n",
    "    else:\n",
    "        read_task ()\n",
    "\n",
    "ch_action= input('If you need to SAVE new task pls type \"S\" or If you need to READ new task pls type \"R\":').upper()\n",
    "choose_action (ch_action)"
   ]
  },
  {
   "cell_type": "code",
   "execution_count": null,
   "id": "82b54e42",
   "metadata": {},
   "outputs": [],
   "source": []
  },
  {
   "cell_type": "code",
   "execution_count": null,
   "id": "b9639032",
   "metadata": {},
   "outputs": [],
   "source": []
  }
 ],
 "metadata": {
  "kernelspec": {
   "display_name": "Python 3 (ipykernel)",
   "language": "python",
   "name": "python3"
  },
  "language_info": {
   "codemirror_mode": {
    "name": "ipython",
    "version": 3
   },
   "file_extension": ".py",
   "mimetype": "text/x-python",
   "name": "python",
   "nbconvert_exporter": "python",
   "pygments_lexer": "ipython3",
   "version": "3.10.0"
  }
 },
 "nbformat": 4,
 "nbformat_minor": 5
}
