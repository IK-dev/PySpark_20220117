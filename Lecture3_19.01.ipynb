{
 "cells": [
  {
   "cell_type": "code",
   "execution_count": 1,
   "id": "afa9758a",
   "metadata": {},
   "outputs": [
    {
     "data": {
      "text/plain": [
       "'/home/z/220117bd'"
      ]
     },
     "execution_count": 1,
     "metadata": {},
     "output_type": "execute_result"
    }
   ],
   "source": [
    "import os\n",
    "os.getcwd()"
   ]
  },
  {
   "cell_type": "code",
   "execution_count": 2,
   "id": "5a2bc0f8",
   "metadata": {},
   "outputs": [],
   "source": [
    "os.chdir(\".\")"
   ]
  },
  {
   "cell_type": "code",
   "execution_count": 5,
   "id": "654bd521",
   "metadata": {},
   "outputs": [
    {
     "data": {
      "text/plain": [
       "<_io.TextIOWrapper name='file.txt' mode='wt' encoding='UTF-8'>"
      ]
     },
     "execution_count": 5,
     "metadata": {},
     "output_type": "execute_result"
    }
   ],
   "source": [
    "f = open(\"file.txt\", \"wt\")\n",
    "f"
   ]
  },
  {
   "cell_type": "code",
   "execution_count": 6,
   "id": "d598537a",
   "metadata": {},
   "outputs": [
    {
     "data": {
      "text/plain": [
       "8"
      ]
     },
     "execution_count": 6,
     "metadata": {},
     "output_type": "execute_result"
    }
   ],
   "source": [
    "f.write(\"String1\\n\")"
   ]
  },
  {
   "cell_type": "code",
   "execution_count": 7,
   "id": "eae95fb4",
   "metadata": {},
   "outputs": [
    {
     "data": {
      "text/plain": [
       "8"
      ]
     },
     "execution_count": 7,
     "metadata": {},
     "output_type": "execute_result"
    }
   ],
   "source": [
    "f.write(\"String2\\n\")"
   ]
  },
  {
   "cell_type": "code",
   "execution_count": 8,
   "id": "b5eb2191",
   "metadata": {},
   "outputs": [
    {
     "data": {
      "text/plain": [
       "8"
      ]
     },
     "execution_count": 8,
     "metadata": {},
     "output_type": "execute_result"
    }
   ],
   "source": [
    "f.write(\"String3\\n\")"
   ]
  },
  {
   "cell_type": "code",
   "execution_count": 9,
   "id": "38eec417",
   "metadata": {},
   "outputs": [
    {
     "data": {
      "text/plain": [
       "24"
      ]
     },
     "execution_count": 9,
     "metadata": {},
     "output_type": "execute_result"
    }
   ],
   "source": [
    "f.tell()"
   ]
  },
  {
   "cell_type": "code",
   "execution_count": 10,
   "id": "6afa5656",
   "metadata": {},
   "outputs": [
    {
     "data": {
      "text/plain": [
       "8"
      ]
     },
     "execution_count": 10,
     "metadata": {},
     "output_type": "execute_result"
    }
   ],
   "source": [
    "f.write(\"String4\\n\")"
   ]
  },
  {
   "cell_type": "code",
   "execution_count": 11,
   "id": "6e391d1e",
   "metadata": {},
   "outputs": [
    {
     "data": {
      "text/plain": [
       "32"
      ]
     },
     "execution_count": 11,
     "metadata": {},
     "output_type": "execute_result"
    }
   ],
   "source": [
    "f.tell()"
   ]
  },
  {
   "cell_type": "code",
   "execution_count": 12,
   "id": "2dbef250",
   "metadata": {},
   "outputs": [],
   "source": [
    "f.close()"
   ]
  },
  {
   "cell_type": "code",
   "execution_count": 13,
   "id": "9f492030",
   "metadata": {},
   "outputs": [],
   "source": [
    "f = open(\"file.txt\", \"at\")"
   ]
  },
  {
   "cell_type": "code",
   "execution_count": 14,
   "id": "c30c7e9f",
   "metadata": {},
   "outputs": [
    {
     "data": {
      "text/plain": [
       "32"
      ]
     },
     "execution_count": 14,
     "metadata": {},
     "output_type": "execute_result"
    }
   ],
   "source": [
    "f.tell()"
   ]
  },
  {
   "cell_type": "code",
   "execution_count": 15,
   "id": "bca3be1e",
   "metadata": {},
   "outputs": [
    {
     "data": {
      "text/plain": [
       "8"
      ]
     },
     "execution_count": 15,
     "metadata": {},
     "output_type": "execute_result"
    }
   ],
   "source": [
    "f.write(\"String5\\n\")"
   ]
  },
  {
   "cell_type": "code",
   "execution_count": 16,
   "id": "5e9f4847",
   "metadata": {},
   "outputs": [],
   "source": [
    "f.close()"
   ]
  },
  {
   "cell_type": "code",
   "execution_count": 17,
   "id": "3022b051",
   "metadata": {},
   "outputs": [
    {
     "data": {
      "text/plain": [
       "0"
      ]
     },
     "execution_count": 17,
     "metadata": {},
     "output_type": "execute_result"
    }
   ],
   "source": [
    "f = open(\"file.txt\", \"rt\")\n",
    "f.tell()"
   ]
  },
  {
   "cell_type": "code",
   "execution_count": 18,
   "id": "d49249e8",
   "metadata": {},
   "outputs": [
    {
     "data": {
      "text/plain": [
       "'String1\\nString2\\nString3\\nString4\\nString5\\n'"
      ]
     },
     "execution_count": 18,
     "metadata": {},
     "output_type": "execute_result"
    }
   ],
   "source": [
    "s = f.read()\n",
    "s"
   ]
  },
  {
   "cell_type": "code",
   "execution_count": 19,
   "id": "fc56380f",
   "metadata": {},
   "outputs": [
    {
     "data": {
      "text/plain": [
       "''"
      ]
     },
     "execution_count": 19,
     "metadata": {},
     "output_type": "execute_result"
    }
   ],
   "source": [
    "f.read()"
   ]
  },
  {
   "cell_type": "code",
   "execution_count": 20,
   "id": "b6082565",
   "metadata": {},
   "outputs": [],
   "source": [
    "f.close()"
   ]
  },
  {
   "cell_type": "code",
   "execution_count": 21,
   "id": "1ff531cf",
   "metadata": {},
   "outputs": [
    {
     "data": {
      "text/plain": [
       "'String1\\n'"
      ]
     },
     "execution_count": 21,
     "metadata": {},
     "output_type": "execute_result"
    }
   ],
   "source": [
    "f = open(\"file.txt\", \"rt\")\n",
    "f.readline()"
   ]
  },
  {
   "cell_type": "code",
   "execution_count": 22,
   "id": "d524e64c",
   "metadata": {},
   "outputs": [
    {
     "data": {
      "text/plain": [
       "'String2\\n'"
      ]
     },
     "execution_count": 22,
     "metadata": {},
     "output_type": "execute_result"
    }
   ],
   "source": [
    "f.readline()"
   ]
  },
  {
   "cell_type": "code",
   "execution_count": 23,
   "id": "f052525a",
   "metadata": {},
   "outputs": [
    {
     "name": "stdout",
     "output_type": "stream",
     "text": [
      "String3\n",
      "\n",
      "String4\n",
      "\n",
      "String5\n",
      "\n"
     ]
    }
   ],
   "source": [
    "while line := f.readline():\n",
    "        print(line)"
   ]
  },
  {
   "cell_type": "code",
   "execution_count": 24,
   "id": "12c89be1",
   "metadata": {},
   "outputs": [],
   "source": [
    "f.close()"
   ]
  },
  {
   "cell_type": "code",
   "execution_count": 25,
   "id": "6c5ae256",
   "metadata": {},
   "outputs": [
    {
     "name": "stdout",
     "output_type": "stream",
     "text": [
      "String1\n",
      "\n",
      "String2\n",
      "\n",
      "String3\n",
      "\n",
      "String4\n",
      "\n",
      "String5\n",
      "\n"
     ]
    }
   ],
   "source": [
    "f = open(\"file.txt\", \"rt\")\n",
    "for line in f:\n",
    "    print(line)"
   ]
  },
  {
   "cell_type": "code",
   "execution_count": 26,
   "id": "fd2f00be",
   "metadata": {},
   "outputs": [],
   "source": [
    "f.close()"
   ]
  },
  {
   "cell_type": "code",
   "execution_count": null,
   "id": "8b312294",
   "metadata": {},
   "outputs": [],
   "source": [
    "f = None\n",
    "try:\n",
    "    f = open(...)\n",
    "    ...\n",
    "    ...\n",
    "finally:\n",
    "    if f is not None:\n",
    "        f.close()"
   ]
  },
  {
   "cell_type": "code",
   "execution_count": 27,
   "id": "ce05f067",
   "metadata": {},
   "outputs": [
    {
     "name": "stdout",
     "output_type": "stream",
     "text": [
      "String1\n",
      "\n",
      "String2\n",
      "\n",
      "String3\n",
      "\n",
      "String4\n",
      "\n",
      "String5\n",
      "\n"
     ]
    }
   ],
   "source": [
    "with open(\"file.txt\", \"rt\") as f:\n",
    "    for line in f:\n",
    "        print(line)"
   ]
  },
  {
   "cell_type": "code",
   "execution_count": 28,
   "id": "512e1ba9",
   "metadata": {},
   "outputs": [
    {
     "data": {
      "text/plain": [
       "True"
      ]
     },
     "execution_count": 28,
     "metadata": {},
     "output_type": "execute_result"
    }
   ],
   "source": [
    "f.closed"
   ]
  },
  {
   "cell_type": "code",
   "execution_count": 29,
   "id": "ad9da4ce",
   "metadata": {},
   "outputs": [],
   "source": [
    "obj1 = {\"qwe\": (1, 2, 3), 123: \"abc\"}"
   ]
  },
  {
   "cell_type": "code",
   "execution_count": 30,
   "id": "2c45a4fa",
   "metadata": {},
   "outputs": [
    {
     "data": {
      "text/plain": [
       "\"{'qwe': (1, 2, 3), 123: 'abc'}\""
      ]
     },
     "execution_count": 30,
     "metadata": {},
     "output_type": "execute_result"
    }
   ],
   "source": [
    "str(obj1)"
   ]
  },
  {
   "cell_type": "code",
   "execution_count": 31,
   "id": "498e04f3",
   "metadata": {},
   "outputs": [],
   "source": [
    "import pickle\n",
    "\n",
    "# dump/dumps, load/loads"
   ]
  },
  {
   "cell_type": "code",
   "execution_count": 32,
   "id": "cf72be1a",
   "metadata": {},
   "outputs": [
    {
     "data": {
      "text/plain": [
       "b'\\x80\\x04\\x95\\x1b\\x00\\x00\\x00\\x00\\x00\\x00\\x00}\\x94(\\x8c\\x03qwe\\x94K\\x01K\\x02K\\x03\\x87\\x94K{\\x8c\\x03abc\\x94u.'"
      ]
     },
     "execution_count": 32,
     "metadata": {},
     "output_type": "execute_result"
    }
   ],
   "source": [
    "s = pickle.dumps(obj1)\n",
    "s"
   ]
  },
  {
   "cell_type": "code",
   "execution_count": 33,
   "id": "5543428e",
   "metadata": {},
   "outputs": [
    {
     "data": {
      "text/plain": [
       "{'qwe': (1, 2, 3), 123: 'abc'}"
      ]
     },
     "execution_count": 33,
     "metadata": {},
     "output_type": "execute_result"
    }
   ],
   "source": [
    "obj2 = pickle.loads(s)\n",
    "obj2"
   ]
  },
  {
   "cell_type": "code",
   "execution_count": 34,
   "id": "b081786e",
   "metadata": {},
   "outputs": [
    {
     "data": {
      "text/plain": [
       "True"
      ]
     },
     "execution_count": 34,
     "metadata": {},
     "output_type": "execute_result"
    }
   ],
   "source": [
    "obj1 == obj2"
   ]
  },
  {
   "cell_type": "code",
   "execution_count": 35,
   "id": "7f73a55a",
   "metadata": {},
   "outputs": [],
   "source": [
    "with open(\"obj.pickle\", \"wb\") as f:\n",
    "    pickle.dump(obj1, f)"
   ]
  },
  {
   "cell_type": "code",
   "execution_count": 36,
   "id": "804ca0ea",
   "metadata": {},
   "outputs": [
    {
     "data": {
      "text/plain": [
       "True"
      ]
     },
     "execution_count": 36,
     "metadata": {},
     "output_type": "execute_result"
    }
   ],
   "source": [
    "with open(\"obj.pickle\", \"rb\") as f:\n",
    "    obj2 = pickle.load(f)\n",
    "    \n",
    "obj1 == obj2"
   ]
  },
  {
   "cell_type": "code",
   "execution_count": 37,
   "id": "078b5799",
   "metadata": {},
   "outputs": [
    {
     "data": {
      "text/plain": [
       "'{\"qwe\": [1, 2, 3], \"123\": \"abc\"}'"
      ]
     },
     "execution_count": 37,
     "metadata": {},
     "output_type": "execute_result"
    }
   ],
   "source": [
    "import json\n",
    "\n",
    "s = json.dumps(obj1)\n",
    "s"
   ]
  },
  {
   "cell_type": "code",
   "execution_count": 38,
   "id": "efe183e0",
   "metadata": {},
   "outputs": [
    {
     "data": {
      "text/plain": [
       "{'qwe': (1, 2, 3), 123: 'abc'}"
      ]
     },
     "execution_count": 38,
     "metadata": {},
     "output_type": "execute_result"
    }
   ],
   "source": [
    "obj1"
   ]
  },
  {
   "cell_type": "code",
   "execution_count": 39,
   "id": "9424cab9",
   "metadata": {},
   "outputs": [
    {
     "data": {
      "text/plain": [
       "{'qwe': [1, 2, 3], '123': 'abc'}"
      ]
     },
     "execution_count": 39,
     "metadata": {},
     "output_type": "execute_result"
    }
   ],
   "source": [
    "obj2 = json.loads(s)\n",
    "obj2"
   ]
  },
  {
   "cell_type": "code",
   "execution_count": 40,
   "id": "00ec96eb",
   "metadata": {},
   "outputs": [],
   "source": [
    "data = (\n",
    "    (123, \"abc\"),\n",
    "    (234, 'abc, \"def\"')\n",
    ")"
   ]
  },
  {
   "cell_type": "code",
   "execution_count": 41,
   "id": "4f608827",
   "metadata": {},
   "outputs": [],
   "source": [
    "import csv"
   ]
  },
  {
   "cell_type": "code",
   "execution_count": 42,
   "id": "96e5b44f",
   "metadata": {},
   "outputs": [],
   "source": [
    "with open(\"file.csv\", \"wt\") as f:\n",
    "    w = csv.writer(f)\n",
    "    for row in data:\n",
    "        w.writerow(row)"
   ]
  },
  {
   "cell_type": "code",
   "execution_count": 44,
   "id": "b85e0514",
   "metadata": {},
   "outputs": [
    {
     "name": "stdout",
     "output_type": "stream",
     "text": [
      "['123', 'abc']\n",
      "['234', 'abc, \"def\"']\n"
     ]
    }
   ],
   "source": [
    "with open(\"file.csv\", \"rt\") as f:\n",
    "    r = csv.reader(f)\n",
    "    for row in r:\n",
    "        print(row)"
   ]
  },
  {
   "cell_type": "code",
   "execution_count": 45,
   "id": "274e7e6c",
   "metadata": {},
   "outputs": [
    {
     "name": "stdout",
     "output_type": "stream",
     "text": [
      "Collecting numpy\n",
      "  Downloading numpy-1.22.1-cp310-cp310-manylinux_2_17_x86_64.manylinux2014_x86_64.whl (16.8 MB)\n",
      "\u001b[K     |████████████████████████████████| 16.8 MB 1.4 MB/s eta 0:00:01\n",
      "\u001b[?25hInstalling collected packages: numpy\n",
      "Successfully installed numpy-1.22.1\n",
      "\u001b[33mWARNING: You are using pip version 21.2.3; however, version 21.3.1 is available.\n",
      "You should consider upgrading via the '/home/z/220117bd/env/bin/python3 -m pip install --upgrade pip' command.\u001b[0m\n"
     ]
    }
   ],
   "source": [
    "!pip install numpy"
   ]
  },
  {
   "cell_type": "code",
   "execution_count": 46,
   "id": "0e212d22",
   "metadata": {},
   "outputs": [],
   "source": [
    "import numpy as np"
   ]
  },
  {
   "cell_type": "code",
   "execution_count": 47,
   "id": "8ccd1d44",
   "metadata": {},
   "outputs": [
    {
     "data": {
      "text/plain": [
       "array([1, 2, 3, 4])"
      ]
     },
     "execution_count": 47,
     "metadata": {},
     "output_type": "execute_result"
    }
   ],
   "source": [
    "a = np.array([1, 2, 3, 4])\n",
    "a"
   ]
  },
  {
   "cell_type": "code",
   "execution_count": 48,
   "id": "9480a3a2",
   "metadata": {},
   "outputs": [
    {
     "data": {
      "text/plain": [
       "4"
      ]
     },
     "execution_count": 48,
     "metadata": {},
     "output_type": "execute_result"
    }
   ],
   "source": [
    "a.size"
   ]
  },
  {
   "cell_type": "code",
   "execution_count": 49,
   "id": "443c5f9d",
   "metadata": {},
   "outputs": [
    {
     "data": {
      "text/plain": [
       "(4,)"
      ]
     },
     "execution_count": 49,
     "metadata": {},
     "output_type": "execute_result"
    }
   ],
   "source": [
    "a.shape"
   ]
  },
  {
   "cell_type": "code",
   "execution_count": 50,
   "id": "e1791bb2",
   "metadata": {},
   "outputs": [
    {
     "data": {
      "text/plain": [
       "dtype('int64')"
      ]
     },
     "execution_count": 50,
     "metadata": {},
     "output_type": "execute_result"
    }
   ],
   "source": [
    "a.dtype"
   ]
  },
  {
   "cell_type": "code",
   "execution_count": 51,
   "id": "b57d4029",
   "metadata": {},
   "outputs": [
    {
     "data": {
      "text/plain": [
       "array([ 0,  1,  2,  3,  4,  5,  6,  7,  8,  9, 10, 11])"
      ]
     },
     "execution_count": 51,
     "metadata": {},
     "output_type": "execute_result"
    }
   ],
   "source": [
    "a = np.arange(12)\n",
    "a"
   ]
  },
  {
   "cell_type": "code",
   "execution_count": 52,
   "id": "a1b0f6aa",
   "metadata": {},
   "outputs": [
    {
     "data": {
      "text/plain": [
       "(12,)"
      ]
     },
     "execution_count": 52,
     "metadata": {},
     "output_type": "execute_result"
    }
   ],
   "source": [
    "a.shape"
   ]
  },
  {
   "cell_type": "code",
   "execution_count": 53,
   "id": "df7cb9ea",
   "metadata": {},
   "outputs": [
    {
     "data": {
      "text/plain": [
       "array([[ 0,  1,  2,  3],\n",
       "       [ 4,  5,  6,  7],\n",
       "       [ 8,  9, 10, 11]])"
      ]
     },
     "execution_count": 53,
     "metadata": {},
     "output_type": "execute_result"
    }
   ],
   "source": [
    "b = a.reshape(3, 4)\n",
    "b"
   ]
  },
  {
   "cell_type": "code",
   "execution_count": 54,
   "id": "7df2bcd9",
   "metadata": {},
   "outputs": [
    {
     "data": {
      "text/plain": [
       "array([100,   1,   2,   3,   4,   5,   6,   7,   8,   9,  10,  11])"
      ]
     },
     "execution_count": 54,
     "metadata": {},
     "output_type": "execute_result"
    }
   ],
   "source": [
    "a[0] = 100\n",
    "a"
   ]
  },
  {
   "cell_type": "code",
   "execution_count": 55,
   "id": "9c0e6c22",
   "metadata": {},
   "outputs": [
    {
     "data": {
      "text/plain": [
       "array([[100,   1,   2,   3],\n",
       "       [  4,   5,   6,   7],\n",
       "       [  8,   9,  10,  11]])"
      ]
     },
     "execution_count": 55,
     "metadata": {},
     "output_type": "execute_result"
    }
   ],
   "source": [
    "b"
   ]
  },
  {
   "cell_type": "code",
   "execution_count": 57,
   "id": "4ac7b37f",
   "metadata": {},
   "outputs": [
    {
     "data": {
      "text/plain": [
       "array([[[100,   1],\n",
       "        [  2,   3],\n",
       "        [  4,   5]],\n",
       "\n",
       "       [[  6,   7],\n",
       "        [  8,   9],\n",
       "        [ 10,  11]]])"
      ]
     },
     "execution_count": 57,
     "metadata": {},
     "output_type": "execute_result"
    }
   ],
   "source": [
    "c = a.reshape(2, 3, 2)\n",
    "c"
   ]
  },
  {
   "cell_type": "code",
   "execution_count": 60,
   "id": "edbf20a6",
   "metadata": {},
   "outputs": [
    {
     "data": {
      "text/plain": [
       "array([[0.93963361, 0.08479168, 0.21014837, 0.75409582, 0.17367555],\n",
       "       [0.51023811, 0.24380469, 0.52509141, 0.9086925 , 0.3747894 ],\n",
       "       [0.21231325, 0.37315637, 0.34794055, 0.19293146, 0.38384045],\n",
       "       [0.74916867, 0.81633563, 0.17382246, 0.90179751, 0.50117313]])"
      ]
     },
     "execution_count": 60,
     "metadata": {},
     "output_type": "execute_result"
    }
   ],
   "source": [
    "a = np.random.rand(4, 5)\n",
    "a"
   ]
  },
  {
   "cell_type": "code",
   "execution_count": 61,
   "id": "f63da493",
   "metadata": {},
   "outputs": [
    {
     "data": {
      "text/plain": [
       "array([[0.0206159 , 0.84065485, 0.09839966, 0.75009758, 0.92235732],\n",
       "       [0.30416632, 0.72606772, 0.81165239, 0.18616559, 0.37959444],\n",
       "       [0.72299595, 0.05547628, 0.45171987, 0.42339602, 0.91796979],\n",
       "       [0.30623056, 0.18288685, 0.2255649 , 0.72005028, 0.17126436]])"
      ]
     },
     "execution_count": 61,
     "metadata": {},
     "output_type": "execute_result"
    }
   ],
   "source": [
    "b = np.random.rand(4, 5)\n",
    "b"
   ]
  },
  {
   "cell_type": "code",
   "execution_count": 62,
   "id": "cdaff229",
   "metadata": {},
   "outputs": [
    {
     "data": {
      "text/plain": [
       "array([[0.96024951, 0.92544653, 0.30854804, 1.5041934 , 1.09603287],\n",
       "       [0.81440443, 0.96987241, 1.33674379, 1.09485809, 0.75438384],\n",
       "       [0.9353092 , 0.42863265, 0.79966042, 0.61632749, 1.30181023],\n",
       "       [1.05539923, 0.99922248, 0.39938737, 1.6218478 , 0.67243748]])"
      ]
     },
     "execution_count": 62,
     "metadata": {},
     "output_type": "execute_result"
    }
   ],
   "source": [
    "a + b"
   ]
  },
  {
   "cell_type": "code",
   "execution_count": 63,
   "id": "92b6c136",
   "metadata": {},
   "outputs": [
    {
     "data": {
      "text/plain": [
       "array([[0.01937139, 0.07128053, 0.02067853, 0.56564545, 0.16019092],\n",
       "       [0.15519725, 0.17701871, 0.42619169, 0.16916727, 0.14226797],\n",
       "       [0.15350162, 0.02070133, 0.15717166, 0.08168641, 0.35235393],\n",
       "       [0.22941834, 0.14929705, 0.03920825, 0.64933955, 0.08583309]])"
      ]
     },
     "execution_count": 63,
     "metadata": {},
     "output_type": "execute_result"
    }
   ],
   "source": [
    "a*b"
   ]
  },
  {
   "cell_type": "code",
   "execution_count": 65,
   "id": "85b0998a",
   "metadata": {},
   "outputs": [
    {
     "data": {
      "text/plain": [
       "array([[0.83716682, 0.72424979, 1.2576935 , 0.92338525],\n",
       "       [1.29444122, 1.0698429 , 1.34840183, 1.03777373],\n",
       "       [0.85106544, 0.79954301, 0.76541496, 0.41640392],\n",
       "       [1.8575022 , 1.31979644, 1.50733151, 1.15309629]])"
      ]
     },
     "execution_count": 65,
     "metadata": {},
     "output_type": "execute_result"
    }
   ],
   "source": [
    "a @ b.T"
   ]
  },
  {
   "cell_type": "code",
   "execution_count": null,
   "id": "15ea7219",
   "metadata": {},
   "outputs": [],
   "source": [
    "b += a"
   ]
  },
  {
   "cell_type": "code",
   "execution_count": 66,
   "id": "b39afe60",
   "metadata": {},
   "outputs": [
    {
     "data": {
      "text/plain": [
       "array([[0.14358237, 0.91687232, 0.31368721, 0.86608174, 0.96039436],\n",
       "       [0.55151276, 0.85209607, 0.90091752, 0.4314691 , 0.61611236],\n",
       "       [0.85029169, 0.23553404, 0.67210109, 0.65068888, 0.9581074 ],\n",
       "       [0.55338103, 0.42765272, 0.47493674, 0.84855777, 0.41384098]])"
      ]
     },
     "execution_count": 66,
     "metadata": {},
     "output_type": "execute_result"
    }
   ],
   "source": [
    "np.sqrt(b)"
   ]
  },
  {
   "cell_type": "code",
   "execution_count": 67,
   "id": "a5843045",
   "metadata": {},
   "outputs": [
    {
     "data": {
      "text/plain": [
       "array([[5.93963361, 5.08479168, 5.21014837, 5.75409582, 5.17367555],\n",
       "       [5.51023811, 5.24380469, 5.52509141, 5.9086925 , 5.3747894 ],\n",
       "       [5.21231325, 5.37315637, 5.34794055, 5.19293146, 5.38384045],\n",
       "       [5.74916867, 5.81633563, 5.17382246, 5.90179751, 5.50117313]])"
      ]
     },
     "execution_count": 67,
     "metadata": {},
     "output_type": "execute_result"
    }
   ],
   "source": [
    "a + 5"
   ]
  },
  {
   "cell_type": "code",
   "execution_count": 68,
   "id": "113f337d",
   "metadata": {},
   "outputs": [
    {
     "data": {
      "text/plain": [
       "array([[1.93963361, 2.08479168, 3.21014837, 4.75409582, 5.17367555],\n",
       "       [1.51023811, 2.24380469, 3.52509141, 4.9086925 , 5.3747894 ],\n",
       "       [1.21231325, 2.37315637, 3.34794055, 4.19293146, 5.38384045],\n",
       "       [1.74916867, 2.81633563, 3.17382246, 4.90179751, 5.50117313]])"
      ]
     },
     "execution_count": 68,
     "metadata": {},
     "output_type": "execute_result"
    }
   ],
   "source": [
    "a + [1, 2, 3, 4, 5]"
   ]
  },
  {
   "cell_type": "code",
   "execution_count": 70,
   "id": "dd4aa96d",
   "metadata": {},
   "outputs": [
    {
     "data": {
      "text/plain": [
       "array([[1.93963361, 1.08479168, 1.21014837, 1.75409582, 1.17367555],\n",
       "       [2.51023811, 2.24380469, 2.52509141, 2.9086925 , 2.3747894 ],\n",
       "       [3.21231325, 3.37315637, 3.34794055, 3.19293146, 3.38384045],\n",
       "       [4.74916867, 4.81633563, 4.17382246, 4.90179751, 4.50117313]])"
      ]
     },
     "execution_count": 70,
     "metadata": {},
     "output_type": "execute_result"
    }
   ],
   "source": [
    "a + [[1], [2], [3], [4]]"
   ]
  },
  {
   "cell_type": "code",
   "execution_count": 71,
   "id": "77d17a10",
   "metadata": {},
   "outputs": [
    {
     "data": {
      "text/plain": [
       "0.4688720316313904"
      ]
     },
     "execution_count": 71,
     "metadata": {},
     "output_type": "execute_result"
    }
   ],
   "source": [
    "np.mean(a)"
   ]
  },
  {
   "cell_type": "code",
   "execution_count": 72,
   "id": "4b818196",
   "metadata": {},
   "outputs": [
    {
     "data": {
      "text/plain": [
       "array([0.60283841, 0.37952209, 0.3142507 , 0.68937932, 0.35836963])"
      ]
     },
     "execution_count": 72,
     "metadata": {},
     "output_type": "execute_result"
    }
   ],
   "source": [
    "np.mean(a, axis=0)"
   ]
  },
  {
   "cell_type": "code",
   "execution_count": 73,
   "id": "d631e894",
   "metadata": {},
   "outputs": [
    {
     "data": {
      "text/plain": [
       "array([0.43246901, 0.51252322, 0.30203642, 0.62845948])"
      ]
     },
     "execution_count": 73,
     "metadata": {},
     "output_type": "execute_result"
    }
   ],
   "source": [
    "np.mean(a, axis=1)"
   ]
  },
  {
   "cell_type": "code",
   "execution_count": 74,
   "id": "93312eb1",
   "metadata": {},
   "outputs": [
    {
     "data": {
      "text/plain": [
       "nan"
      ]
     },
     "execution_count": 74,
     "metadata": {},
     "output_type": "execute_result"
    }
   ],
   "source": [
    "np.nan"
   ]
  },
  {
   "cell_type": "code",
   "execution_count": 75,
   "id": "e772e829",
   "metadata": {},
   "outputs": [
    {
     "data": {
      "text/plain": [
       "array([[       nan, 0.08479168, 0.21014837, 0.75409582, 0.17367555],\n",
       "       [0.51023811, 0.24380469, 0.52509141, 0.9086925 , 0.3747894 ],\n",
       "       [0.21231325, 0.37315637, 0.34794055, 0.19293146, 0.38384045],\n",
       "       [0.74916867, 0.81633563, 0.17382246, 0.90179751, 0.50117313]])"
      ]
     },
     "execution_count": 75,
     "metadata": {},
     "output_type": "execute_result"
    }
   ],
   "source": [
    "a[0][0] = np.nan\n",
    "a"
   ]
  },
  {
   "cell_type": "code",
   "execution_count": 76,
   "id": "68cbccc5",
   "metadata": {},
   "outputs": [
    {
     "data": {
      "text/plain": [
       "nan"
      ]
     },
     "execution_count": 76,
     "metadata": {},
     "output_type": "execute_result"
    }
   ],
   "source": [
    "np.nan + 3"
   ]
  },
  {
   "cell_type": "code",
   "execution_count": 77,
   "id": "dfd626c5",
   "metadata": {},
   "outputs": [
    {
     "data": {
      "text/plain": [
       "nan"
      ]
     },
     "execution_count": 77,
     "metadata": {},
     "output_type": "execute_result"
    }
   ],
   "source": [
    "np.mean(a)"
   ]
  },
  {
   "cell_type": "code",
   "execution_count": 78,
   "id": "cacdc644",
   "metadata": {},
   "outputs": [
    {
     "data": {
      "text/plain": [
       "0.444095106210375"
      ]
     },
     "execution_count": 78,
     "metadata": {},
     "output_type": "execute_result"
    }
   ],
   "source": [
    "np.nanmean(a)"
   ]
  },
  {
   "cell_type": "code",
   "execution_count": 79,
   "id": "a0b63e95",
   "metadata": {},
   "outputs": [
    {
     "data": {
      "text/plain": [
       "array([0.49057335, 0.37952209, 0.3142507 , 0.68937932, 0.35836963])"
      ]
     },
     "execution_count": 79,
     "metadata": {},
     "output_type": "execute_result"
    }
   ],
   "source": [
    "np.nanmean(a, axis=0)"
   ]
  },
  {
   "cell_type": "code",
   "execution_count": 80,
   "id": "0126f29a",
   "metadata": {},
   "outputs": [
    {
     "data": {
      "text/plain": [
       "array([[       nan, 0.08479168, 0.21014837, 0.75409582, 0.17367555],\n",
       "       [0.51023811, 0.24380469, 0.52509141, 0.9086925 , 0.3747894 ],\n",
       "       [0.21231325, 0.37315637, 0.34794055, 0.19293146, 0.38384045],\n",
       "       [0.74916867, 0.81633563, 0.17382246, 0.90179751, 0.50117313]])"
      ]
     },
     "execution_count": 80,
     "metadata": {},
     "output_type": "execute_result"
    }
   ],
   "source": [
    "a"
   ]
  },
  {
   "cell_type": "code",
   "execution_count": 81,
   "id": "b5073581",
   "metadata": {},
   "outputs": [],
   "source": [
    "a[0][0] = 0.5"
   ]
  },
  {
   "cell_type": "code",
   "execution_count": 82,
   "id": "dea0fe89",
   "metadata": {},
   "outputs": [
    {
     "data": {
      "text/plain": [
       "array([0.5       , 0.08479168, 0.21014837, 0.75409582, 0.17367555])"
      ]
     },
     "execution_count": 82,
     "metadata": {},
     "output_type": "execute_result"
    }
   ],
   "source": [
    "a[0]"
   ]
  },
  {
   "cell_type": "code",
   "execution_count": 83,
   "id": "2e204a7b",
   "metadata": {},
   "outputs": [
    {
     "data": {
      "text/plain": [
       "0.5"
      ]
     },
     "execution_count": 83,
     "metadata": {},
     "output_type": "execute_result"
    }
   ],
   "source": [
    "a[0][0]"
   ]
  },
  {
   "cell_type": "code",
   "execution_count": 84,
   "id": "bf2461ea",
   "metadata": {},
   "outputs": [
    {
     "data": {
      "text/plain": [
       "0.5"
      ]
     },
     "execution_count": 84,
     "metadata": {},
     "output_type": "execute_result"
    }
   ],
   "source": [
    "a[0, 0]"
   ]
  },
  {
   "cell_type": "code",
   "execution_count": 85,
   "id": "d445aaea",
   "metadata": {},
   "outputs": [
    {
     "data": {
      "text/plain": [
       "array([[0.08479168, 0.21014837, 0.75409582],\n",
       "       [0.24380469, 0.52509141, 0.9086925 ],\n",
       "       [0.37315637, 0.34794055, 0.19293146],\n",
       "       [0.81633563, 0.17382246, 0.90179751]])"
      ]
     },
     "execution_count": 85,
     "metadata": {},
     "output_type": "execute_result"
    }
   ],
   "source": [
    "a[:, 1:4]"
   ]
  },
  {
   "cell_type": "code",
   "execution_count": 86,
   "id": "06615820",
   "metadata": {},
   "outputs": [
    {
     "data": {
      "text/plain": [
       "array([[0.51023811, 0.24380469, 0.52509141, 0.9086925 , 0.3747894 ],\n",
       "       [0.21231325, 0.37315637, 0.34794055, 0.19293146, 0.38384045]])"
      ]
     },
     "execution_count": 86,
     "metadata": {},
     "output_type": "execute_result"
    }
   ],
   "source": [
    "a[1:3, :]"
   ]
  },
  {
   "cell_type": "code",
   "execution_count": 87,
   "id": "ef78b918",
   "metadata": {},
   "outputs": [
    {
     "data": {
      "text/plain": [
       "array([[0.24380469, 0.52509141, 0.9086925 ],\n",
       "       [0.37315637, 0.34794055, 0.19293146]])"
      ]
     },
     "execution_count": 87,
     "metadata": {},
     "output_type": "execute_result"
    }
   ],
   "source": [
    "a[1:3, 1:4]"
   ]
  },
  {
   "cell_type": "code",
   "execution_count": 88,
   "id": "aff1163f",
   "metadata": {},
   "outputs": [
    {
     "data": {
      "text/plain": [
       "array([[0.5       , 0.21014837, 0.17367555],\n",
       "       [0.21231325, 0.34794055, 0.38384045]])"
      ]
     },
     "execution_count": 88,
     "metadata": {},
     "output_type": "execute_result"
    }
   ],
   "source": [
    "a[::2, ::2]"
   ]
  },
  {
   "cell_type": "code",
   "execution_count": 89,
   "id": "10d023ba",
   "metadata": {},
   "outputs": [
    {
     "data": {
      "text/plain": [
       "array([[0.5       , 0.08479168, 0.21014837, 0.75409582, 0.17367555],\n",
       "       [0.51023811, 0.24380469, 0.52509141, 0.9086925 , 0.3747894 ],\n",
       "       [0.21231325, 0.37315637, 0.34794055, 0.19293146, 0.38384045],\n",
       "       [0.74916867, 0.81633563, 0.17382246, 0.90179751, 0.50117313]])"
      ]
     },
     "execution_count": 89,
     "metadata": {},
     "output_type": "execute_result"
    }
   ],
   "source": [
    "a"
   ]
  },
  {
   "cell_type": "code",
   "execution_count": 92,
   "id": "240535a3",
   "metadata": {},
   "outputs": [
    {
     "name": "stderr",
     "output_type": "stream",
     "text": [
      "/tmp/ipykernel_14018/1347839133.py:1: FutureWarning: Using a non-tuple sequence for multidimensional indexing is deprecated; use `arr[tuple(seq)]` instead of `arr[seq]`. In the future this will be interpreted as an array index, `arr[np.array(seq)]`, which will result either in an error or a different result.\n",
      "  a[[(0, 3, 2), (1, 2, 4)]]\n"
     ]
    },
    {
     "data": {
      "text/plain": [
       "array([0.08479168, 0.17382246, 0.38384045])"
      ]
     },
     "execution_count": 92,
     "metadata": {},
     "output_type": "execute_result"
    }
   ],
   "source": [
    "a[[(0, 3, 2), (1, 2, 4)]]"
   ]
  },
  {
   "cell_type": "code",
   "execution_count": 93,
   "id": "84873b05",
   "metadata": {},
   "outputs": [
    {
     "data": {
      "text/plain": [
       "array([[False,  True,  True, False,  True],\n",
       "       [False,  True, False, False,  True],\n",
       "       [ True,  True,  True,  True,  True],\n",
       "       [False, False,  True, False, False]])"
      ]
     },
     "execution_count": 93,
     "metadata": {},
     "output_type": "execute_result"
    }
   ],
   "source": [
    "a < 0.5"
   ]
  },
  {
   "cell_type": "code",
   "execution_count": 94,
   "id": "7e2f05f3",
   "metadata": {},
   "outputs": [
    {
     "data": {
      "text/plain": [
       "array([0.08479168, 0.21014837, 0.17367555, 0.24380469, 0.3747894 ,\n",
       "       0.21231325, 0.37315637, 0.34794055, 0.19293146, 0.38384045,\n",
       "       0.17382246])"
      ]
     },
     "execution_count": 94,
     "metadata": {},
     "output_type": "execute_result"
    }
   ],
   "source": [
    "a[a < 0.5]"
   ]
  },
  {
   "cell_type": "code",
   "execution_count": 95,
   "id": "da269d8b",
   "metadata": {},
   "outputs": [
    {
     "data": {
      "text/plain": [
       "array([0.84065485, 0.09839966, 0.92235732, 0.72606772, 0.37959444,\n",
       "       0.72299595, 0.05547628, 0.45171987, 0.42339602, 0.91796979,\n",
       "       0.2255649 ])"
      ]
     },
     "execution_count": 95,
     "metadata": {},
     "output_type": "execute_result"
    }
   ],
   "source": [
    "b[a < 0.5]"
   ]
  },
  {
   "cell_type": "code",
   "execution_count": 96,
   "id": "d77b0e46",
   "metadata": {},
   "outputs": [
    {
     "data": {
      "text/plain": [
       "array([[0.0206159 , 0.84065485, 0.09839966, 0.75009758, 0.92235732],\n",
       "       [0.30416632, 0.72606772, 0.81165239, 0.18616559, 0.37959444],\n",
       "       [0.72299595, 0.05547628, 0.45171987, 0.42339602, 0.91796979],\n",
       "       [0.30623056, 0.18288685, 0.2255649 , 0.72005028, 0.17126436]])"
      ]
     },
     "execution_count": 96,
     "metadata": {},
     "output_type": "execute_result"
    }
   ],
   "source": [
    "b"
   ]
  },
  {
   "cell_type": "code",
   "execution_count": 97,
   "id": "d127165b",
   "metadata": {},
   "outputs": [],
   "source": [
    "b[a < 0.5] *= 2"
   ]
  },
  {
   "cell_type": "code",
   "execution_count": 98,
   "id": "5ad00f15",
   "metadata": {},
   "outputs": [
    {
     "data": {
      "text/plain": [
       "array([[0.0206159 , 1.6813097 , 0.19679933, 0.75009758, 1.84471464],\n",
       "       [0.30416632, 1.45213543, 0.81165239, 0.18616559, 0.75918888],\n",
       "       [1.4459919 , 0.11095256, 0.90343974, 0.84679204, 1.83593957],\n",
       "       [0.30623056, 0.18288685, 0.45112981, 0.72005028, 0.17126436]])"
      ]
     },
     "execution_count": 98,
     "metadata": {},
     "output_type": "execute_result"
    }
   ],
   "source": [
    "b"
   ]
  },
  {
   "cell_type": "code",
   "execution_count": 102,
   "id": "6a10a6e2",
   "metadata": {},
   "outputs": [
    {
     "data": {
      "text/plain": [
       "array([ 0.3685423 , -0.97726323, -0.87577901, -0.09973446,  0.195435  ,\n",
       "        0.38029609, -0.22711005,  0.06151486, -0.55059359, -0.60236775])"
      ]
     },
     "execution_count": 102,
     "metadata": {},
     "output_type": "execute_result"
    }
   ],
   "source": [
    "x = 1 - 2*np.random.rand(10)\n",
    "x"
   ]
  },
  {
   "cell_type": "code",
   "execution_count": 103,
   "id": "9d949198",
   "metadata": {},
   "outputs": [
    {
     "data": {
      "text/plain": [
       "array([ 0.40063949,  0.49203082, -0.58533934, -0.18004946,  0.12374252,\n",
       "        0.71749911,  0.04726447,  0.71872991, -0.43270792,  0.79345181])"
      ]
     },
     "execution_count": 103,
     "metadata": {},
     "output_type": "execute_result"
    }
   ],
   "source": [
    "y = 1 - 2*np.random.rand(10)\n",
    "y"
   ]
  },
  {
   "cell_type": "code",
   "execution_count": 104,
   "id": "34a6d556",
   "metadata": {},
   "outputs": [
    {
     "data": {
      "text/plain": [
       "array([ True, False, False,  True,  True,  True,  True,  True,  True,\n",
       "        True])"
      ]
     },
     "execution_count": 104,
     "metadata": {},
     "output_type": "execute_result"
    }
   ],
   "source": [
    "x*x + y*y < 1"
   ]
  },
  {
   "cell_type": "code",
   "execution_count": 105,
   "id": "9a882dd7",
   "metadata": {},
   "outputs": [
    {
     "data": {
      "text/plain": [
       "8"
      ]
     },
     "execution_count": 105,
     "metadata": {},
     "output_type": "execute_result"
    }
   ],
   "source": [
    "np.sum(x*x + y*y < 1)"
   ]
  },
  {
   "cell_type": "code",
   "execution_count": 109,
   "id": "2b3b4961",
   "metadata": {},
   "outputs": [
    {
     "data": {
      "text/plain": [
       "3.2"
      ]
     },
     "execution_count": 109,
     "metadata": {},
     "output_type": "execute_result"
    }
   ],
   "source": [
    "4/(10/8)"
   ]
  },
  {
   "cell_type": "code",
   "execution_count": 123,
   "id": "6b772f25",
   "metadata": {},
   "outputs": [
    {
     "data": {
      "text/plain": [
       "3.1420879999999998"
      ]
     },
     "execution_count": 123,
     "metadata": {},
     "output_type": "execute_result"
    }
   ],
   "source": [
    "N = 10_000_000\n",
    "x = 1 - 2*np.random.rand(N)\n",
    "y = 1 - 2*np.random.rand(N)\n",
    "4/(N/np.sum(x*x + y*y < 1))"
   ]
  },
  {
   "cell_type": "markdown",
   "id": "039c175e",
   "metadata": {},
   "source": [
    "Реализовать возможность сохранения и чтения списка задач в/из файла"
   ]
  }
 ],
 "metadata": {
  "kernelspec": {
   "display_name": "Python 3 (ipykernel)",
   "language": "python",
   "name": "python3"
  },
  "language_info": {
   "codemirror_mode": {
    "name": "ipython",
    "version": 3
   },
   "file_extension": ".py",
   "mimetype": "text/x-python",
   "name": "python",
   "nbconvert_exporter": "python",
   "pygments_lexer": "ipython3",
   "version": "3.10.0"
  }
 },
 "nbformat": 4,
 "nbformat_minor": 5
}
